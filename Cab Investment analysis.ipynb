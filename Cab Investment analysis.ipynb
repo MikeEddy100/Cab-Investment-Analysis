{
 "cells": [
  {
   "cell_type": "markdown",
   "id": "49219a4c",
   "metadata": {},
   "source": [
    "## CAB INVESTMENT ANALYSIS\n",
    "### Overview\n",
    "Company XYZ ,due to remarkable growth in the Cab Industry in last few years and multiple key players in the market, it is planning for an investment in Cab industry and as per their Go-to-Market(G2M) strategy they want to understand the market before taking final decision\n",
    "\n",
    "### Business Problem\n",
    "The Company aims to maximise profit on the Cab Industry by choosing the firm which has the maximum return.\n",
    "\n",
    "### Objectives\n",
    "* To find out which company makes more profit and has a higher profit margin\n",
    "* To find out which company has more users and the distribution of users across the cities\n",
    "* To find out which company is mostly demanded and the demand per city\n",
    "* To find out the demographic characteristics and economic status of people using cabs\n",
    "* To find out which is the most preffered payment method"
   ]
  },
  {
   "cell_type": "code",
   "execution_count": 49,
   "id": "22a0fdd1",
   "metadata": {},
   "outputs": [],
   "source": [
    "import pandas as pd\n",
    "import matplotlib.pyplot as plt\n"
   ]
  },
  {
   "cell_type": "code",
   "execution_count": 2,
   "id": "cbb6f977",
   "metadata": {},
   "outputs": [
    {
     "data": {
      "text/html": [
       "<div>\n",
       "<style scoped>\n",
       "    .dataframe tbody tr th:only-of-type {\n",
       "        vertical-align: middle;\n",
       "    }\n",
       "\n",
       "    .dataframe tbody tr th {\n",
       "        vertical-align: top;\n",
       "    }\n",
       "\n",
       "    .dataframe thead th {\n",
       "        text-align: right;\n",
       "    }\n",
       "</style>\n",
       "<table border=\"1\" class=\"dataframe\">\n",
       "  <thead>\n",
       "    <tr style=\"text-align: right;\">\n",
       "      <th></th>\n",
       "      <th>Transaction ID</th>\n",
       "      <th>Date of Travel</th>\n",
       "      <th>Company</th>\n",
       "      <th>City</th>\n",
       "      <th>KM Travelled</th>\n",
       "      <th>Price Charged</th>\n",
       "      <th>Cost of Trip</th>\n",
       "    </tr>\n",
       "  </thead>\n",
       "  <tbody>\n",
       "    <tr>\n",
       "      <th>0</th>\n",
       "      <td>10000011</td>\n",
       "      <td>42377</td>\n",
       "      <td>Pink Cab</td>\n",
       "      <td>ATLANTA GA</td>\n",
       "      <td>30.45</td>\n",
       "      <td>370.95</td>\n",
       "      <td>313.635</td>\n",
       "    </tr>\n",
       "    <tr>\n",
       "      <th>1</th>\n",
       "      <td>10000012</td>\n",
       "      <td>42375</td>\n",
       "      <td>Pink Cab</td>\n",
       "      <td>ATLANTA GA</td>\n",
       "      <td>28.62</td>\n",
       "      <td>358.52</td>\n",
       "      <td>334.854</td>\n",
       "    </tr>\n",
       "    <tr>\n",
       "      <th>2</th>\n",
       "      <td>10000013</td>\n",
       "      <td>42371</td>\n",
       "      <td>Pink Cab</td>\n",
       "      <td>ATLANTA GA</td>\n",
       "      <td>9.04</td>\n",
       "      <td>125.20</td>\n",
       "      <td>97.632</td>\n",
       "    </tr>\n",
       "    <tr>\n",
       "      <th>3</th>\n",
       "      <td>10000014</td>\n",
       "      <td>42376</td>\n",
       "      <td>Pink Cab</td>\n",
       "      <td>ATLANTA GA</td>\n",
       "      <td>33.17</td>\n",
       "      <td>377.40</td>\n",
       "      <td>351.602</td>\n",
       "    </tr>\n",
       "    <tr>\n",
       "      <th>4</th>\n",
       "      <td>10000015</td>\n",
       "      <td>42372</td>\n",
       "      <td>Pink Cab</td>\n",
       "      <td>ATLANTA GA</td>\n",
       "      <td>8.73</td>\n",
       "      <td>114.62</td>\n",
       "      <td>97.776</td>\n",
       "    </tr>\n",
       "  </tbody>\n",
       "</table>\n",
       "</div>"
      ],
      "text/plain": [
       "   Transaction ID  Date of Travel   Company        City  KM Travelled  \\\n",
       "0        10000011           42377  Pink Cab  ATLANTA GA         30.45   \n",
       "1        10000012           42375  Pink Cab  ATLANTA GA         28.62   \n",
       "2        10000013           42371  Pink Cab  ATLANTA GA          9.04   \n",
       "3        10000014           42376  Pink Cab  ATLANTA GA         33.17   \n",
       "4        10000015           42372  Pink Cab  ATLANTA GA          8.73   \n",
       "\n",
       "   Price Charged  Cost of Trip  \n",
       "0         370.95       313.635  \n",
       "1         358.52       334.854  \n",
       "2         125.20        97.632  \n",
       "3         377.40       351.602  \n",
       "4         114.62        97.776  "
      ]
     },
     "execution_count": 2,
     "metadata": {},
     "output_type": "execute_result"
    }
   ],
   "source": [
    "cabs=pd.read_csv('Cab_Data.csv')\n",
    "cabs.head()"
   ]
  },
  {
   "cell_type": "code",
   "execution_count": 3,
   "id": "2a769c27",
   "metadata": {},
   "outputs": [
    {
     "data": {
      "text/html": [
       "<div>\n",
       "<style scoped>\n",
       "    .dataframe tbody tr th:only-of-type {\n",
       "        vertical-align: middle;\n",
       "    }\n",
       "\n",
       "    .dataframe tbody tr th {\n",
       "        vertical-align: top;\n",
       "    }\n",
       "\n",
       "    .dataframe thead th {\n",
       "        text-align: right;\n",
       "    }\n",
       "</style>\n",
       "<table border=\"1\" class=\"dataframe\">\n",
       "  <thead>\n",
       "    <tr style=\"text-align: right;\">\n",
       "      <th></th>\n",
       "      <th>Transaction ID</th>\n",
       "      <th>Date of Travel</th>\n",
       "      <th>Company</th>\n",
       "      <th>City</th>\n",
       "      <th>KM Travelled</th>\n",
       "      <th>Price Charged</th>\n",
       "      <th>Cost of Trip</th>\n",
       "    </tr>\n",
       "  </thead>\n",
       "  <tbody>\n",
       "    <tr>\n",
       "      <th>359387</th>\n",
       "      <td>10440101</td>\n",
       "      <td>43108</td>\n",
       "      <td>Yellow Cab</td>\n",
       "      <td>WASHINGTON DC</td>\n",
       "      <td>4.80</td>\n",
       "      <td>69.24</td>\n",
       "      <td>63.3600</td>\n",
       "    </tr>\n",
       "    <tr>\n",
       "      <th>359388</th>\n",
       "      <td>10440104</td>\n",
       "      <td>43104</td>\n",
       "      <td>Yellow Cab</td>\n",
       "      <td>WASHINGTON DC</td>\n",
       "      <td>8.40</td>\n",
       "      <td>113.75</td>\n",
       "      <td>106.8480</td>\n",
       "    </tr>\n",
       "    <tr>\n",
       "      <th>359389</th>\n",
       "      <td>10440105</td>\n",
       "      <td>43105</td>\n",
       "      <td>Yellow Cab</td>\n",
       "      <td>WASHINGTON DC</td>\n",
       "      <td>27.75</td>\n",
       "      <td>437.07</td>\n",
       "      <td>349.6500</td>\n",
       "    </tr>\n",
       "    <tr>\n",
       "      <th>359390</th>\n",
       "      <td>10440106</td>\n",
       "      <td>43105</td>\n",
       "      <td>Yellow Cab</td>\n",
       "      <td>WASHINGTON DC</td>\n",
       "      <td>8.80</td>\n",
       "      <td>146.19</td>\n",
       "      <td>114.0480</td>\n",
       "    </tr>\n",
       "    <tr>\n",
       "      <th>359391</th>\n",
       "      <td>10440107</td>\n",
       "      <td>43102</td>\n",
       "      <td>Yellow Cab</td>\n",
       "      <td>WASHINGTON DC</td>\n",
       "      <td>12.76</td>\n",
       "      <td>191.58</td>\n",
       "      <td>177.6192</td>\n",
       "    </tr>\n",
       "  </tbody>\n",
       "</table>\n",
       "</div>"
      ],
      "text/plain": [
       "        Transaction ID  Date of Travel     Company           City  \\\n",
       "359387        10440101           43108  Yellow Cab  WASHINGTON DC   \n",
       "359388        10440104           43104  Yellow Cab  WASHINGTON DC   \n",
       "359389        10440105           43105  Yellow Cab  WASHINGTON DC   \n",
       "359390        10440106           43105  Yellow Cab  WASHINGTON DC   \n",
       "359391        10440107           43102  Yellow Cab  WASHINGTON DC   \n",
       "\n",
       "        KM Travelled  Price Charged  Cost of Trip  \n",
       "359387          4.80          69.24       63.3600  \n",
       "359388          8.40         113.75      106.8480  \n",
       "359389         27.75         437.07      349.6500  \n",
       "359390          8.80         146.19      114.0480  \n",
       "359391         12.76         191.58      177.6192  "
      ]
     },
     "execution_count": 3,
     "metadata": {},
     "output_type": "execute_result"
    }
   ],
   "source": [
    "cabs.tail()"
   ]
  },
  {
   "cell_type": "code",
   "execution_count": 5,
   "id": "6ba70332",
   "metadata": {},
   "outputs": [
    {
     "data": {
      "text/html": [
       "<div>\n",
       "<style scoped>\n",
       "    .dataframe tbody tr th:only-of-type {\n",
       "        vertical-align: middle;\n",
       "    }\n",
       "\n",
       "    .dataframe tbody tr th {\n",
       "        vertical-align: top;\n",
       "    }\n",
       "\n",
       "    .dataframe thead th {\n",
       "        text-align: right;\n",
       "    }\n",
       "</style>\n",
       "<table border=\"1\" class=\"dataframe\">\n",
       "  <thead>\n",
       "    <tr style=\"text-align: right;\">\n",
       "      <th></th>\n",
       "      <th>City</th>\n",
       "      <th>Population</th>\n",
       "      <th>Users</th>\n",
       "    </tr>\n",
       "  </thead>\n",
       "  <tbody>\n",
       "    <tr>\n",
       "      <th>0</th>\n",
       "      <td>NEW YORK NY</td>\n",
       "      <td>8,405,837</td>\n",
       "      <td>302,149</td>\n",
       "    </tr>\n",
       "    <tr>\n",
       "      <th>1</th>\n",
       "      <td>CHICAGO IL</td>\n",
       "      <td>1,955,130</td>\n",
       "      <td>164,468</td>\n",
       "    </tr>\n",
       "    <tr>\n",
       "      <th>2</th>\n",
       "      <td>LOS ANGELES CA</td>\n",
       "      <td>1,595,037</td>\n",
       "      <td>144,132</td>\n",
       "    </tr>\n",
       "    <tr>\n",
       "      <th>3</th>\n",
       "      <td>MIAMI FL</td>\n",
       "      <td>1,339,155</td>\n",
       "      <td>17,675</td>\n",
       "    </tr>\n",
       "    <tr>\n",
       "      <th>4</th>\n",
       "      <td>SILICON VALLEY</td>\n",
       "      <td>1,177,609</td>\n",
       "      <td>27,247</td>\n",
       "    </tr>\n",
       "  </tbody>\n",
       "</table>\n",
       "</div>"
      ],
      "text/plain": [
       "             City   Population      Users\n",
       "0     NEW YORK NY   8,405,837    302,149 \n",
       "1      CHICAGO IL   1,955,130    164,468 \n",
       "2  LOS ANGELES CA   1,595,037    144,132 \n",
       "3        MIAMI FL   1,339,155     17,675 \n",
       "4  SILICON VALLEY   1,177,609     27,247 "
      ]
     },
     "execution_count": 5,
     "metadata": {},
     "output_type": "execute_result"
    }
   ],
   "source": [
    "city = pd.read_csv('City.csv')\n",
    "city.head()"
   ]
  },
  {
   "cell_type": "code",
   "execution_count": 6,
   "id": "d35635e0",
   "metadata": {},
   "outputs": [
    {
     "data": {
      "text/html": [
       "<div>\n",
       "<style scoped>\n",
       "    .dataframe tbody tr th:only-of-type {\n",
       "        vertical-align: middle;\n",
       "    }\n",
       "\n",
       "    .dataframe tbody tr th {\n",
       "        vertical-align: top;\n",
       "    }\n",
       "\n",
       "    .dataframe thead th {\n",
       "        text-align: right;\n",
       "    }\n",
       "</style>\n",
       "<table border=\"1\" class=\"dataframe\">\n",
       "  <thead>\n",
       "    <tr style=\"text-align: right;\">\n",
       "      <th></th>\n",
       "      <th>City</th>\n",
       "      <th>Population</th>\n",
       "      <th>Users</th>\n",
       "    </tr>\n",
       "  </thead>\n",
       "  <tbody>\n",
       "    <tr>\n",
       "      <th>15</th>\n",
       "      <td>SACRAMENTO CA</td>\n",
       "      <td>545,776</td>\n",
       "      <td>7,044</td>\n",
       "    </tr>\n",
       "    <tr>\n",
       "      <th>16</th>\n",
       "      <td>PITTSBURGH PA</td>\n",
       "      <td>542,085</td>\n",
       "      <td>3,643</td>\n",
       "    </tr>\n",
       "    <tr>\n",
       "      <th>17</th>\n",
       "      <td>WASHINGTON DC</td>\n",
       "      <td>418,859</td>\n",
       "      <td>127,001</td>\n",
       "    </tr>\n",
       "    <tr>\n",
       "      <th>18</th>\n",
       "      <td>NASHVILLE TN</td>\n",
       "      <td>327,225</td>\n",
       "      <td>9,270</td>\n",
       "    </tr>\n",
       "    <tr>\n",
       "      <th>19</th>\n",
       "      <td>BOSTON MA</td>\n",
       "      <td>248,968</td>\n",
       "      <td>80,021</td>\n",
       "    </tr>\n",
       "  </tbody>\n",
       "</table>\n",
       "</div>"
      ],
      "text/plain": [
       "             City Population      Users\n",
       "15  SACRAMENTO CA   545,776      7,044 \n",
       "16  PITTSBURGH PA   542,085      3,643 \n",
       "17  WASHINGTON DC   418,859    127,001 \n",
       "18   NASHVILLE TN   327,225      9,270 \n",
       "19      BOSTON MA   248,968     80,021 "
      ]
     },
     "execution_count": 6,
     "metadata": {},
     "output_type": "execute_result"
    }
   ],
   "source": [
    "city.tail()"
   ]
  },
  {
   "cell_type": "code",
   "execution_count": 7,
   "id": "0b9364bc",
   "metadata": {},
   "outputs": [
    {
     "data": {
      "text/html": [
       "<div>\n",
       "<style scoped>\n",
       "    .dataframe tbody tr th:only-of-type {\n",
       "        vertical-align: middle;\n",
       "    }\n",
       "\n",
       "    .dataframe tbody tr th {\n",
       "        vertical-align: top;\n",
       "    }\n",
       "\n",
       "    .dataframe thead th {\n",
       "        text-align: right;\n",
       "    }\n",
       "</style>\n",
       "<table border=\"1\" class=\"dataframe\">\n",
       "  <thead>\n",
       "    <tr style=\"text-align: right;\">\n",
       "      <th></th>\n",
       "      <th>Transaction ID</th>\n",
       "      <th>Customer ID</th>\n",
       "      <th>Payment_Mode</th>\n",
       "    </tr>\n",
       "  </thead>\n",
       "  <tbody>\n",
       "    <tr>\n",
       "      <th>0</th>\n",
       "      <td>10000011</td>\n",
       "      <td>29290</td>\n",
       "      <td>Card</td>\n",
       "    </tr>\n",
       "    <tr>\n",
       "      <th>1</th>\n",
       "      <td>10000012</td>\n",
       "      <td>27703</td>\n",
       "      <td>Card</td>\n",
       "    </tr>\n",
       "    <tr>\n",
       "      <th>2</th>\n",
       "      <td>10000013</td>\n",
       "      <td>28712</td>\n",
       "      <td>Cash</td>\n",
       "    </tr>\n",
       "    <tr>\n",
       "      <th>3</th>\n",
       "      <td>10000014</td>\n",
       "      <td>28020</td>\n",
       "      <td>Cash</td>\n",
       "    </tr>\n",
       "    <tr>\n",
       "      <th>4</th>\n",
       "      <td>10000015</td>\n",
       "      <td>27182</td>\n",
       "      <td>Card</td>\n",
       "    </tr>\n",
       "  </tbody>\n",
       "</table>\n",
       "</div>"
      ],
      "text/plain": [
       "   Transaction ID  Customer ID Payment_Mode\n",
       "0        10000011        29290         Card\n",
       "1        10000012        27703         Card\n",
       "2        10000013        28712         Cash\n",
       "3        10000014        28020         Cash\n",
       "4        10000015        27182         Card"
      ]
     },
     "execution_count": 7,
     "metadata": {},
     "output_type": "execute_result"
    }
   ],
   "source": [
    "trans = pd.read_csv('Transaction_ID.csv')\n",
    "trans.head()"
   ]
  },
  {
   "cell_type": "code",
   "execution_count": 14,
   "id": "435ab76f",
   "metadata": {},
   "outputs": [
    {
     "data": {
      "text/html": [
       "<div>\n",
       "<style scoped>\n",
       "    .dataframe tbody tr th:only-of-type {\n",
       "        vertical-align: middle;\n",
       "    }\n",
       "\n",
       "    .dataframe tbody tr th {\n",
       "        vertical-align: top;\n",
       "    }\n",
       "\n",
       "    .dataframe thead th {\n",
       "        text-align: right;\n",
       "    }\n",
       "</style>\n",
       "<table border=\"1\" class=\"dataframe\">\n",
       "  <thead>\n",
       "    <tr style=\"text-align: right;\">\n",
       "      <th></th>\n",
       "      <th>Transaction ID</th>\n",
       "      <th>Customer ID</th>\n",
       "      <th>Payment_Mode</th>\n",
       "    </tr>\n",
       "  </thead>\n",
       "  <tbody>\n",
       "    <tr>\n",
       "      <th>440093</th>\n",
       "      <td>10440104</td>\n",
       "      <td>53286</td>\n",
       "      <td>Cash</td>\n",
       "    </tr>\n",
       "    <tr>\n",
       "      <th>440094</th>\n",
       "      <td>10440105</td>\n",
       "      <td>52265</td>\n",
       "      <td>Cash</td>\n",
       "    </tr>\n",
       "    <tr>\n",
       "      <th>440095</th>\n",
       "      <td>10440106</td>\n",
       "      <td>52175</td>\n",
       "      <td>Card</td>\n",
       "    </tr>\n",
       "    <tr>\n",
       "      <th>440096</th>\n",
       "      <td>10440107</td>\n",
       "      <td>52917</td>\n",
       "      <td>Card</td>\n",
       "    </tr>\n",
       "    <tr>\n",
       "      <th>440097</th>\n",
       "      <td>10440108</td>\n",
       "      <td>51587</td>\n",
       "      <td>Card</td>\n",
       "    </tr>\n",
       "  </tbody>\n",
       "</table>\n",
       "</div>"
      ],
      "text/plain": [
       "        Transaction ID  Customer ID Payment_Mode\n",
       "440093        10440104        53286         Cash\n",
       "440094        10440105        52265         Cash\n",
       "440095        10440106        52175         Card\n",
       "440096        10440107        52917         Card\n",
       "440097        10440108        51587         Card"
      ]
     },
     "execution_count": 14,
     "metadata": {},
     "output_type": "execute_result"
    }
   ],
   "source": [
    "trans.tail()"
   ]
  },
  {
   "cell_type": "code",
   "execution_count": 8,
   "id": "56ff0cc7",
   "metadata": {},
   "outputs": [
    {
     "data": {
      "text/html": [
       "<div>\n",
       "<style scoped>\n",
       "    .dataframe tbody tr th:only-of-type {\n",
       "        vertical-align: middle;\n",
       "    }\n",
       "\n",
       "    .dataframe tbody tr th {\n",
       "        vertical-align: top;\n",
       "    }\n",
       "\n",
       "    .dataframe thead th {\n",
       "        text-align: right;\n",
       "    }\n",
       "</style>\n",
       "<table border=\"1\" class=\"dataframe\">\n",
       "  <thead>\n",
       "    <tr style=\"text-align: right;\">\n",
       "      <th></th>\n",
       "      <th>Customer ID</th>\n",
       "      <th>Gender</th>\n",
       "      <th>Age</th>\n",
       "      <th>Income (USD/Month)</th>\n",
       "    </tr>\n",
       "  </thead>\n",
       "  <tbody>\n",
       "    <tr>\n",
       "      <th>0</th>\n",
       "      <td>29290</td>\n",
       "      <td>Male</td>\n",
       "      <td>28</td>\n",
       "      <td>10813</td>\n",
       "    </tr>\n",
       "    <tr>\n",
       "      <th>1</th>\n",
       "      <td>27703</td>\n",
       "      <td>Male</td>\n",
       "      <td>27</td>\n",
       "      <td>9237</td>\n",
       "    </tr>\n",
       "    <tr>\n",
       "      <th>2</th>\n",
       "      <td>28712</td>\n",
       "      <td>Male</td>\n",
       "      <td>53</td>\n",
       "      <td>11242</td>\n",
       "    </tr>\n",
       "    <tr>\n",
       "      <th>3</th>\n",
       "      <td>28020</td>\n",
       "      <td>Male</td>\n",
       "      <td>23</td>\n",
       "      <td>23327</td>\n",
       "    </tr>\n",
       "    <tr>\n",
       "      <th>4</th>\n",
       "      <td>27182</td>\n",
       "      <td>Male</td>\n",
       "      <td>33</td>\n",
       "      <td>8536</td>\n",
       "    </tr>\n",
       "  </tbody>\n",
       "</table>\n",
       "</div>"
      ],
      "text/plain": [
       "   Customer ID Gender  Age  Income (USD/Month)\n",
       "0        29290   Male   28               10813\n",
       "1        27703   Male   27                9237\n",
       "2        28712   Male   53               11242\n",
       "3        28020   Male   23               23327\n",
       "4        27182   Male   33                8536"
      ]
     },
     "execution_count": 8,
     "metadata": {},
     "output_type": "execute_result"
    }
   ],
   "source": [
    "cus = pd.read_csv('Customer_ID.csv')\n",
    "cus.head()"
   ]
  },
  {
   "cell_type": "code",
   "execution_count": 16,
   "id": "00fa6e5c",
   "metadata": {},
   "outputs": [
    {
     "data": {
      "text/html": [
       "<div>\n",
       "<style scoped>\n",
       "    .dataframe tbody tr th:only-of-type {\n",
       "        vertical-align: middle;\n",
       "    }\n",
       "\n",
       "    .dataframe tbody tr th {\n",
       "        vertical-align: top;\n",
       "    }\n",
       "\n",
       "    .dataframe thead th {\n",
       "        text-align: right;\n",
       "    }\n",
       "</style>\n",
       "<table border=\"1\" class=\"dataframe\">\n",
       "  <thead>\n",
       "    <tr style=\"text-align: right;\">\n",
       "      <th></th>\n",
       "      <th>Customer ID</th>\n",
       "      <th>Gender</th>\n",
       "      <th>Age</th>\n",
       "      <th>Income (USD/Month)</th>\n",
       "    </tr>\n",
       "  </thead>\n",
       "  <tbody>\n",
       "    <tr>\n",
       "      <th>49166</th>\n",
       "      <td>12490</td>\n",
       "      <td>Male</td>\n",
       "      <td>33</td>\n",
       "      <td>18713</td>\n",
       "    </tr>\n",
       "    <tr>\n",
       "      <th>49167</th>\n",
       "      <td>14971</td>\n",
       "      <td>Male</td>\n",
       "      <td>30</td>\n",
       "      <td>15346</td>\n",
       "    </tr>\n",
       "    <tr>\n",
       "      <th>49168</th>\n",
       "      <td>41414</td>\n",
       "      <td>Male</td>\n",
       "      <td>38</td>\n",
       "      <td>3960</td>\n",
       "    </tr>\n",
       "    <tr>\n",
       "      <th>49169</th>\n",
       "      <td>41677</td>\n",
       "      <td>Male</td>\n",
       "      <td>23</td>\n",
       "      <td>19454</td>\n",
       "    </tr>\n",
       "    <tr>\n",
       "      <th>49170</th>\n",
       "      <td>39761</td>\n",
       "      <td>Female</td>\n",
       "      <td>32</td>\n",
       "      <td>10128</td>\n",
       "    </tr>\n",
       "  </tbody>\n",
       "</table>\n",
       "</div>"
      ],
      "text/plain": [
       "       Customer ID  Gender  Age  Income (USD/Month)\n",
       "49166        12490    Male   33               18713\n",
       "49167        14971    Male   30               15346\n",
       "49168        41414    Male   38                3960\n",
       "49169        41677    Male   23               19454\n",
       "49170        39761  Female   32               10128"
      ]
     },
     "execution_count": 16,
     "metadata": {},
     "output_type": "execute_result"
    }
   ],
   "source": [
    "cus.tail()"
   ]
  },
  {
   "cell_type": "markdown",
   "id": "82eac1c9",
   "metadata": {},
   "source": [
    "we then concatenate the tables to one table to easily analyse the data"
   ]
  },
  {
   "cell_type": "code",
   "execution_count": 9,
   "id": "8149be5d",
   "metadata": {},
   "outputs": [
    {
     "data": {
      "text/html": [
       "<div>\n",
       "<style scoped>\n",
       "    .dataframe tbody tr th:only-of-type {\n",
       "        vertical-align: middle;\n",
       "    }\n",
       "\n",
       "    .dataframe tbody tr th {\n",
       "        vertical-align: top;\n",
       "    }\n",
       "\n",
       "    .dataframe thead th {\n",
       "        text-align: right;\n",
       "    }\n",
       "</style>\n",
       "<table border=\"1\" class=\"dataframe\">\n",
       "  <thead>\n",
       "    <tr style=\"text-align: right;\">\n",
       "      <th></th>\n",
       "      <th>Transaction ID</th>\n",
       "      <th>Date of Travel</th>\n",
       "      <th>Company</th>\n",
       "      <th>City</th>\n",
       "      <th>KM Travelled</th>\n",
       "      <th>Price Charged</th>\n",
       "      <th>Cost of Trip</th>\n",
       "      <th>Population</th>\n",
       "      <th>Users</th>\n",
       "    </tr>\n",
       "  </thead>\n",
       "  <tbody>\n",
       "    <tr>\n",
       "      <th>0</th>\n",
       "      <td>10000011</td>\n",
       "      <td>42377</td>\n",
       "      <td>Pink Cab</td>\n",
       "      <td>ATLANTA GA</td>\n",
       "      <td>30.45</td>\n",
       "      <td>370.95</td>\n",
       "      <td>313.635</td>\n",
       "      <td>814,885</td>\n",
       "      <td>24,701</td>\n",
       "    </tr>\n",
       "    <tr>\n",
       "      <th>1</th>\n",
       "      <td>10000012</td>\n",
       "      <td>42375</td>\n",
       "      <td>Pink Cab</td>\n",
       "      <td>ATLANTA GA</td>\n",
       "      <td>28.62</td>\n",
       "      <td>358.52</td>\n",
       "      <td>334.854</td>\n",
       "      <td>814,885</td>\n",
       "      <td>24,701</td>\n",
       "    </tr>\n",
       "    <tr>\n",
       "      <th>2</th>\n",
       "      <td>10000013</td>\n",
       "      <td>42371</td>\n",
       "      <td>Pink Cab</td>\n",
       "      <td>ATLANTA GA</td>\n",
       "      <td>9.04</td>\n",
       "      <td>125.20</td>\n",
       "      <td>97.632</td>\n",
       "      <td>814,885</td>\n",
       "      <td>24,701</td>\n",
       "    </tr>\n",
       "    <tr>\n",
       "      <th>3</th>\n",
       "      <td>10000014</td>\n",
       "      <td>42376</td>\n",
       "      <td>Pink Cab</td>\n",
       "      <td>ATLANTA GA</td>\n",
       "      <td>33.17</td>\n",
       "      <td>377.40</td>\n",
       "      <td>351.602</td>\n",
       "      <td>814,885</td>\n",
       "      <td>24,701</td>\n",
       "    </tr>\n",
       "    <tr>\n",
       "      <th>4</th>\n",
       "      <td>10000015</td>\n",
       "      <td>42372</td>\n",
       "      <td>Pink Cab</td>\n",
       "      <td>ATLANTA GA</td>\n",
       "      <td>8.73</td>\n",
       "      <td>114.62</td>\n",
       "      <td>97.776</td>\n",
       "      <td>814,885</td>\n",
       "      <td>24,701</td>\n",
       "    </tr>\n",
       "  </tbody>\n",
       "</table>\n",
       "</div>"
      ],
      "text/plain": [
       "   Transaction ID  Date of Travel   Company        City  KM Travelled  \\\n",
       "0        10000011           42377  Pink Cab  ATLANTA GA         30.45   \n",
       "1        10000012           42375  Pink Cab  ATLANTA GA         28.62   \n",
       "2        10000013           42371  Pink Cab  ATLANTA GA          9.04   \n",
       "3        10000014           42376  Pink Cab  ATLANTA GA         33.17   \n",
       "4        10000015           42372  Pink Cab  ATLANTA GA          8.73   \n",
       "\n",
       "   Price Charged  Cost of Trip Population     Users  \n",
       "0         370.95       313.635   814,885    24,701   \n",
       "1         358.52       334.854   814,885    24,701   \n",
       "2         125.20        97.632   814,885    24,701   \n",
       "3         377.40       351.602   814,885    24,701   \n",
       "4         114.62        97.776   814,885    24,701   "
      ]
     },
     "execution_count": 9,
     "metadata": {},
     "output_type": "execute_result"
    }
   ],
   "source": [
    "#we join cabs and city to find the number of users \n",
    "cabs_city = cabs.merge(city,how='inner',on=['City'])\n",
    "cabs_city.head()"
   ]
  },
  {
   "cell_type": "code",
   "execution_count": 10,
   "id": "284d8f63",
   "metadata": {},
   "outputs": [
    {
     "data": {
      "text/html": [
       "<div>\n",
       "<style scoped>\n",
       "    .dataframe tbody tr th:only-of-type {\n",
       "        vertical-align: middle;\n",
       "    }\n",
       "\n",
       "    .dataframe tbody tr th {\n",
       "        vertical-align: top;\n",
       "    }\n",
       "\n",
       "    .dataframe thead th {\n",
       "        text-align: right;\n",
       "    }\n",
       "</style>\n",
       "<table border=\"1\" class=\"dataframe\">\n",
       "  <thead>\n",
       "    <tr style=\"text-align: right;\">\n",
       "      <th></th>\n",
       "      <th>Transaction ID</th>\n",
       "      <th>Date of Travel</th>\n",
       "      <th>Company</th>\n",
       "      <th>City</th>\n",
       "      <th>KM Travelled</th>\n",
       "      <th>Price Charged</th>\n",
       "      <th>Cost of Trip</th>\n",
       "      <th>Population</th>\n",
       "      <th>Users</th>\n",
       "      <th>Customer ID</th>\n",
       "      <th>Payment_Mode</th>\n",
       "    </tr>\n",
       "  </thead>\n",
       "  <tbody>\n",
       "    <tr>\n",
       "      <th>0</th>\n",
       "      <td>10000011</td>\n",
       "      <td>42377</td>\n",
       "      <td>Pink Cab</td>\n",
       "      <td>ATLANTA GA</td>\n",
       "      <td>30.45</td>\n",
       "      <td>370.95</td>\n",
       "      <td>313.635</td>\n",
       "      <td>814,885</td>\n",
       "      <td>24,701</td>\n",
       "      <td>29290</td>\n",
       "      <td>Card</td>\n",
       "    </tr>\n",
       "    <tr>\n",
       "      <th>1</th>\n",
       "      <td>10000012</td>\n",
       "      <td>42375</td>\n",
       "      <td>Pink Cab</td>\n",
       "      <td>ATLANTA GA</td>\n",
       "      <td>28.62</td>\n",
       "      <td>358.52</td>\n",
       "      <td>334.854</td>\n",
       "      <td>814,885</td>\n",
       "      <td>24,701</td>\n",
       "      <td>27703</td>\n",
       "      <td>Card</td>\n",
       "    </tr>\n",
       "    <tr>\n",
       "      <th>2</th>\n",
       "      <td>10000013</td>\n",
       "      <td>42371</td>\n",
       "      <td>Pink Cab</td>\n",
       "      <td>ATLANTA GA</td>\n",
       "      <td>9.04</td>\n",
       "      <td>125.20</td>\n",
       "      <td>97.632</td>\n",
       "      <td>814,885</td>\n",
       "      <td>24,701</td>\n",
       "      <td>28712</td>\n",
       "      <td>Cash</td>\n",
       "    </tr>\n",
       "    <tr>\n",
       "      <th>3</th>\n",
       "      <td>10000014</td>\n",
       "      <td>42376</td>\n",
       "      <td>Pink Cab</td>\n",
       "      <td>ATLANTA GA</td>\n",
       "      <td>33.17</td>\n",
       "      <td>377.40</td>\n",
       "      <td>351.602</td>\n",
       "      <td>814,885</td>\n",
       "      <td>24,701</td>\n",
       "      <td>28020</td>\n",
       "      <td>Cash</td>\n",
       "    </tr>\n",
       "    <tr>\n",
       "      <th>4</th>\n",
       "      <td>10000015</td>\n",
       "      <td>42372</td>\n",
       "      <td>Pink Cab</td>\n",
       "      <td>ATLANTA GA</td>\n",
       "      <td>8.73</td>\n",
       "      <td>114.62</td>\n",
       "      <td>97.776</td>\n",
       "      <td>814,885</td>\n",
       "      <td>24,701</td>\n",
       "      <td>27182</td>\n",
       "      <td>Card</td>\n",
       "    </tr>\n",
       "  </tbody>\n",
       "</table>\n",
       "</div>"
      ],
      "text/plain": [
       "   Transaction ID  Date of Travel   Company        City  KM Travelled  \\\n",
       "0        10000011           42377  Pink Cab  ATLANTA GA         30.45   \n",
       "1        10000012           42375  Pink Cab  ATLANTA GA         28.62   \n",
       "2        10000013           42371  Pink Cab  ATLANTA GA          9.04   \n",
       "3        10000014           42376  Pink Cab  ATLANTA GA         33.17   \n",
       "4        10000015           42372  Pink Cab  ATLANTA GA          8.73   \n",
       "\n",
       "   Price Charged  Cost of Trip Population     Users  Customer ID Payment_Mode  \n",
       "0         370.95       313.635   814,885    24,701         29290         Card  \n",
       "1         358.52       334.854   814,885    24,701         27703         Card  \n",
       "2         125.20        97.632   814,885    24,701         28712         Cash  \n",
       "3         377.40       351.602   814,885    24,701         28020         Cash  \n",
       "4         114.62        97.776   814,885    24,701         27182         Card  "
      ]
     },
     "execution_count": 10,
     "metadata": {},
     "output_type": "execute_result"
    }
   ],
   "source": [
    "#we merge cabs_city and trans to find the mode of payment\n",
    "cabs_city_trans = cabs_city.merge(trans,how='inner',on=['Transaction ID'])\n",
    "cabs_city_trans.head()"
   ]
  },
  {
   "cell_type": "code",
   "execution_count": 11,
   "id": "970f6962",
   "metadata": {},
   "outputs": [
    {
     "data": {
      "text/html": [
       "<div>\n",
       "<style scoped>\n",
       "    .dataframe tbody tr th:only-of-type {\n",
       "        vertical-align: middle;\n",
       "    }\n",
       "\n",
       "    .dataframe tbody tr th {\n",
       "        vertical-align: top;\n",
       "    }\n",
       "\n",
       "    .dataframe thead th {\n",
       "        text-align: right;\n",
       "    }\n",
       "</style>\n",
       "<table border=\"1\" class=\"dataframe\">\n",
       "  <thead>\n",
       "    <tr style=\"text-align: right;\">\n",
       "      <th></th>\n",
       "      <th>Transaction ID</th>\n",
       "      <th>Date of Travel</th>\n",
       "      <th>Company</th>\n",
       "      <th>City</th>\n",
       "      <th>KM Travelled</th>\n",
       "      <th>Price Charged</th>\n",
       "      <th>Cost of Trip</th>\n",
       "      <th>Population</th>\n",
       "      <th>Users</th>\n",
       "      <th>Customer ID</th>\n",
       "      <th>Payment_Mode</th>\n",
       "      <th>Gender</th>\n",
       "      <th>Age</th>\n",
       "      <th>Income (USD/Month)</th>\n",
       "    </tr>\n",
       "  </thead>\n",
       "  <tbody>\n",
       "    <tr>\n",
       "      <th>0</th>\n",
       "      <td>10000011</td>\n",
       "      <td>42377</td>\n",
       "      <td>Pink Cab</td>\n",
       "      <td>ATLANTA GA</td>\n",
       "      <td>30.45</td>\n",
       "      <td>370.95</td>\n",
       "      <td>313.6350</td>\n",
       "      <td>814,885</td>\n",
       "      <td>24,701</td>\n",
       "      <td>29290</td>\n",
       "      <td>Card</td>\n",
       "      <td>Male</td>\n",
       "      <td>28</td>\n",
       "      <td>10813</td>\n",
       "    </tr>\n",
       "    <tr>\n",
       "      <th>1</th>\n",
       "      <td>10351127</td>\n",
       "      <td>43302</td>\n",
       "      <td>Yellow Cab</td>\n",
       "      <td>ATLANTA GA</td>\n",
       "      <td>26.19</td>\n",
       "      <td>598.70</td>\n",
       "      <td>317.4228</td>\n",
       "      <td>814,885</td>\n",
       "      <td>24,701</td>\n",
       "      <td>29290</td>\n",
       "      <td>Cash</td>\n",
       "      <td>Male</td>\n",
       "      <td>28</td>\n",
       "      <td>10813</td>\n",
       "    </tr>\n",
       "    <tr>\n",
       "      <th>2</th>\n",
       "      <td>10412921</td>\n",
       "      <td>43427</td>\n",
       "      <td>Yellow Cab</td>\n",
       "      <td>ATLANTA GA</td>\n",
       "      <td>42.55</td>\n",
       "      <td>792.05</td>\n",
       "      <td>597.4020</td>\n",
       "      <td>814,885</td>\n",
       "      <td>24,701</td>\n",
       "      <td>29290</td>\n",
       "      <td>Card</td>\n",
       "      <td>Male</td>\n",
       "      <td>28</td>\n",
       "      <td>10813</td>\n",
       "    </tr>\n",
       "    <tr>\n",
       "      <th>3</th>\n",
       "      <td>10000012</td>\n",
       "      <td>42375</td>\n",
       "      <td>Pink Cab</td>\n",
       "      <td>ATLANTA GA</td>\n",
       "      <td>28.62</td>\n",
       "      <td>358.52</td>\n",
       "      <td>334.8540</td>\n",
       "      <td>814,885</td>\n",
       "      <td>24,701</td>\n",
       "      <td>27703</td>\n",
       "      <td>Card</td>\n",
       "      <td>Male</td>\n",
       "      <td>27</td>\n",
       "      <td>9237</td>\n",
       "    </tr>\n",
       "    <tr>\n",
       "      <th>4</th>\n",
       "      <td>10320494</td>\n",
       "      <td>43211</td>\n",
       "      <td>Yellow Cab</td>\n",
       "      <td>ATLANTA GA</td>\n",
       "      <td>36.38</td>\n",
       "      <td>721.10</td>\n",
       "      <td>467.1192</td>\n",
       "      <td>814,885</td>\n",
       "      <td>24,701</td>\n",
       "      <td>27703</td>\n",
       "      <td>Card</td>\n",
       "      <td>Male</td>\n",
       "      <td>27</td>\n",
       "      <td>9237</td>\n",
       "    </tr>\n",
       "  </tbody>\n",
       "</table>\n",
       "</div>"
      ],
      "text/plain": [
       "   Transaction ID  Date of Travel     Company        City  KM Travelled  \\\n",
       "0        10000011           42377    Pink Cab  ATLANTA GA         30.45   \n",
       "1        10351127           43302  Yellow Cab  ATLANTA GA         26.19   \n",
       "2        10412921           43427  Yellow Cab  ATLANTA GA         42.55   \n",
       "3        10000012           42375    Pink Cab  ATLANTA GA         28.62   \n",
       "4        10320494           43211  Yellow Cab  ATLANTA GA         36.38   \n",
       "\n",
       "   Price Charged  Cost of Trip Population     Users  Customer ID Payment_Mode  \\\n",
       "0         370.95      313.6350   814,885    24,701         29290         Card   \n",
       "1         598.70      317.4228   814,885    24,701         29290         Cash   \n",
       "2         792.05      597.4020   814,885    24,701         29290         Card   \n",
       "3         358.52      334.8540   814,885    24,701         27703         Card   \n",
       "4         721.10      467.1192   814,885    24,701         27703         Card   \n",
       "\n",
       "  Gender  Age  Income (USD/Month)  \n",
       "0   Male   28               10813  \n",
       "1   Male   28               10813  \n",
       "2   Male   28               10813  \n",
       "3   Male   27                9237  \n",
       "4   Male   27                9237  "
      ]
     },
     "execution_count": 11,
     "metadata": {},
     "output_type": "execute_result"
    }
   ],
   "source": [
    "#we then merge cabs_city_trans with cus to find customer id\n",
    "cabs_city_trans_cus = cabs_city_trans.merge(cus,how='inner',on=['Customer ID'])\n",
    "cabs_city_trans_cus.head()"
   ]
  },
  {
   "cell_type": "code",
   "execution_count": 12,
   "id": "cafbb350",
   "metadata": {},
   "outputs": [
    {
     "data": {
      "text/html": [
       "<div>\n",
       "<style scoped>\n",
       "    .dataframe tbody tr th:only-of-type {\n",
       "        vertical-align: middle;\n",
       "    }\n",
       "\n",
       "    .dataframe tbody tr th {\n",
       "        vertical-align: top;\n",
       "    }\n",
       "\n",
       "    .dataframe thead th {\n",
       "        text-align: right;\n",
       "    }\n",
       "</style>\n",
       "<table border=\"1\" class=\"dataframe\">\n",
       "  <thead>\n",
       "    <tr style=\"text-align: right;\">\n",
       "      <th></th>\n",
       "      <th>Transaction ID</th>\n",
       "      <th>Date of Travel</th>\n",
       "      <th>Company</th>\n",
       "      <th>City</th>\n",
       "      <th>KM Travelled</th>\n",
       "      <th>Price Charged</th>\n",
       "      <th>Cost of Trip</th>\n",
       "      <th>Population</th>\n",
       "      <th>Users</th>\n",
       "      <th>Customer ID</th>\n",
       "      <th>Payment_Mode</th>\n",
       "      <th>Gender</th>\n",
       "      <th>Age</th>\n",
       "      <th>Income (USD/Month)</th>\n",
       "    </tr>\n",
       "  </thead>\n",
       "  <tbody>\n",
       "    <tr>\n",
       "      <th>359387</th>\n",
       "      <td>10307228</td>\n",
       "      <td>43162</td>\n",
       "      <td>Yellow Cab</td>\n",
       "      <td>WASHINGTON DC</td>\n",
       "      <td>38.40</td>\n",
       "      <td>668.93</td>\n",
       "      <td>525.3120</td>\n",
       "      <td>418,859</td>\n",
       "      <td>127,001</td>\n",
       "      <td>51406</td>\n",
       "      <td>Cash</td>\n",
       "      <td>Female</td>\n",
       "      <td>29</td>\n",
       "      <td>6829</td>\n",
       "    </tr>\n",
       "    <tr>\n",
       "      <th>359388</th>\n",
       "      <td>10319775</td>\n",
       "      <td>43203</td>\n",
       "      <td>Yellow Cab</td>\n",
       "      <td>WASHINGTON DC</td>\n",
       "      <td>3.57</td>\n",
       "      <td>67.60</td>\n",
       "      <td>44.5536</td>\n",
       "      <td>418,859</td>\n",
       "      <td>127,001</td>\n",
       "      <td>51406</td>\n",
       "      <td>Cash</td>\n",
       "      <td>Female</td>\n",
       "      <td>29</td>\n",
       "      <td>6829</td>\n",
       "    </tr>\n",
       "    <tr>\n",
       "      <th>359389</th>\n",
       "      <td>10347676</td>\n",
       "      <td>43287</td>\n",
       "      <td>Yellow Cab</td>\n",
       "      <td>WASHINGTON DC</td>\n",
       "      <td>23.46</td>\n",
       "      <td>331.97</td>\n",
       "      <td>337.8240</td>\n",
       "      <td>418,859</td>\n",
       "      <td>127,001</td>\n",
       "      <td>51406</td>\n",
       "      <td>Card</td>\n",
       "      <td>Female</td>\n",
       "      <td>29</td>\n",
       "      <td>6829</td>\n",
       "    </tr>\n",
       "    <tr>\n",
       "      <th>359390</th>\n",
       "      <td>10358624</td>\n",
       "      <td>43314</td>\n",
       "      <td>Yellow Cab</td>\n",
       "      <td>WASHINGTON DC</td>\n",
       "      <td>27.60</td>\n",
       "      <td>358.23</td>\n",
       "      <td>364.3200</td>\n",
       "      <td>418,859</td>\n",
       "      <td>127,001</td>\n",
       "      <td>51406</td>\n",
       "      <td>Cash</td>\n",
       "      <td>Female</td>\n",
       "      <td>29</td>\n",
       "      <td>6829</td>\n",
       "    </tr>\n",
       "    <tr>\n",
       "      <th>359391</th>\n",
       "      <td>10370709</td>\n",
       "      <td>43342</td>\n",
       "      <td>Yellow Cab</td>\n",
       "      <td>WASHINGTON DC</td>\n",
       "      <td>34.24</td>\n",
       "      <td>453.11</td>\n",
       "      <td>427.3152</td>\n",
       "      <td>418,859</td>\n",
       "      <td>127,001</td>\n",
       "      <td>51406</td>\n",
       "      <td>Card</td>\n",
       "      <td>Female</td>\n",
       "      <td>29</td>\n",
       "      <td>6829</td>\n",
       "    </tr>\n",
       "  </tbody>\n",
       "</table>\n",
       "</div>"
      ],
      "text/plain": [
       "        Transaction ID  Date of Travel     Company           City  \\\n",
       "359387        10307228           43162  Yellow Cab  WASHINGTON DC   \n",
       "359388        10319775           43203  Yellow Cab  WASHINGTON DC   \n",
       "359389        10347676           43287  Yellow Cab  WASHINGTON DC   \n",
       "359390        10358624           43314  Yellow Cab  WASHINGTON DC   \n",
       "359391        10370709           43342  Yellow Cab  WASHINGTON DC   \n",
       "\n",
       "        KM Travelled  Price Charged  Cost of Trip Population      Users  \\\n",
       "359387         38.40         668.93      525.3120   418,859    127,001    \n",
       "359388          3.57          67.60       44.5536   418,859    127,001    \n",
       "359389         23.46         331.97      337.8240   418,859    127,001    \n",
       "359390         27.60         358.23      364.3200   418,859    127,001    \n",
       "359391         34.24         453.11      427.3152   418,859    127,001    \n",
       "\n",
       "        Customer ID Payment_Mode  Gender  Age  Income (USD/Month)  \n",
       "359387        51406         Cash  Female   29                6829  \n",
       "359388        51406         Cash  Female   29                6829  \n",
       "359389        51406         Card  Female   29                6829  \n",
       "359390        51406         Cash  Female   29                6829  \n",
       "359391        51406         Card  Female   29                6829  "
      ]
     },
     "execution_count": 12,
     "metadata": {},
     "output_type": "execute_result"
    }
   ],
   "source": [
    "cabs_city_trans_cus.tail()"
   ]
  },
  {
   "cell_type": "code",
   "execution_count": 13,
   "id": "72213ccd",
   "metadata": {},
   "outputs": [
    {
     "name": "stdout",
     "output_type": "stream",
     "text": [
      "<class 'pandas.core.frame.DataFrame'>\n",
      "Int64Index: 359392 entries, 0 to 359391\n",
      "Data columns (total 14 columns):\n",
      " #   Column              Non-Null Count   Dtype  \n",
      "---  ------              --------------   -----  \n",
      " 0   Transaction ID      359392 non-null  int64  \n",
      " 1   Date of Travel      359392 non-null  int64  \n",
      " 2   Company             359392 non-null  object \n",
      " 3   City                359392 non-null  object \n",
      " 4   KM Travelled        359392 non-null  float64\n",
      " 5   Price Charged       359392 non-null  float64\n",
      " 6   Cost of Trip        359392 non-null  float64\n",
      " 7   Population          359392 non-null  object \n",
      " 8   Users               359392 non-null  object \n",
      " 9   Customer ID         359392 non-null  int64  \n",
      " 10  Payment_Mode        359392 non-null  object \n",
      " 11  Gender              359392 non-null  object \n",
      " 12  Age                 359392 non-null  int64  \n",
      " 13  Income (USD/Month)  359392 non-null  int64  \n",
      "dtypes: float64(3), int64(5), object(6)\n",
      "memory usage: 32.9+ MB\n"
     ]
    }
   ],
   "source": [
    "cabs_city_trans_cus.info()"
   ]
  },
  {
   "cell_type": "markdown",
   "id": "731a7e9b",
   "metadata": {},
   "source": [
    "* There is a total of 14 columns,359392 entries.\n",
    "* The data types of the columns are; 3 floats,5 integers,6 objects."
   ]
  },
  {
   "cell_type": "markdown",
   "id": "d775dd8b",
   "metadata": {},
   "source": [
    "### DATA CLEANING/DATA PREPARATION\n",
    "\n",
    "Here we prepare the data for analysis,we do the following:\n",
    "* check for missing values\n",
    "* check for uniformity\n",
    "* check for duplicates\n",
    "* check for outliers"
   ]
  },
  {
   "cell_type": "code",
   "execution_count": 15,
   "id": "5390c6fa",
   "metadata": {},
   "outputs": [
    {
     "data": {
      "text/plain": [
       "Transaction ID        0\n",
       "Date of Travel        0\n",
       "Company               0\n",
       "City                  0\n",
       "KM Travelled          0\n",
       "Price Charged         0\n",
       "Cost of Trip          0\n",
       "Population            0\n",
       "Users                 0\n",
       "Customer ID           0\n",
       "Payment_Mode          0\n",
       "Gender                0\n",
       "Age                   0\n",
       "Income (USD/Month)    0\n",
       "dtype: int64"
      ]
     },
     "execution_count": 15,
     "metadata": {},
     "output_type": "execute_result"
    }
   ],
   "source": [
    "#checking for missing values\n",
    "cabs_city_trans_cus.isna().sum()"
   ]
  },
  {
   "cell_type": "markdown",
   "id": "3255d714",
   "metadata": {},
   "source": [
    "there are no missing values"
   ]
  },
  {
   "cell_type": "code",
   "execution_count": 15,
   "id": "a6d56ae2",
   "metadata": {},
   "outputs": [
    {
     "name": "stdout",
     "output_type": "stream",
     "text": [
      "<class 'pandas.core.frame.DataFrame'>\n",
      "Int64Index: 359392 entries, 0 to 359391\n",
      "Data columns (total 14 columns):\n",
      " #   Column              Non-Null Count   Dtype  \n",
      "---  ------              --------------   -----  \n",
      " 0   Transaction ID      359392 non-null  int64  \n",
      " 1   Date of Travel      359392 non-null  int64  \n",
      " 2   Company             359392 non-null  object \n",
      " 3   City                359392 non-null  object \n",
      " 4   KM Travelled        359392 non-null  float64\n",
      " 5   Price Charged       359392 non-null  float64\n",
      " 6   Cost of Trip        359392 non-null  float64\n",
      " 7   Population          359392 non-null  object \n",
      " 8   Users               359392 non-null  object \n",
      " 9   Customer ID         359392 non-null  int64  \n",
      " 10  Payment_Mode        359392 non-null  object \n",
      " 11  Gender              359392 non-null  object \n",
      " 12  Age                 359392 non-null  int64  \n",
      " 13  Income (USD/Month)  359392 non-null  int64  \n",
      "dtypes: float64(3), int64(5), object(6)\n",
      "memory usage: 32.9+ MB\n"
     ]
    }
   ],
   "source": [
    "#checking for uniformity\n",
    "cabs_city_trans_cus.info()"
   ]
  },
  {
   "cell_type": "markdown",
   "id": "fe1ff7b0",
   "metadata": {},
   "source": [
    "* Transaction ID and Customer ID are not necessary for descriptive analysis and therefore the dtypes should be changed to object.\n",
    "* Columns Population and Users are useful in descriptive statistics therefore the dtypes changed to integers\n",
    "* The column date is not in datetime format therefore dropped"
   ]
  },
  {
   "cell_type": "code",
   "execution_count": 14,
   "id": "b852b6a4",
   "metadata": {},
   "outputs": [],
   "source": [
    "#changing customer id and transactions id\n",
    "cabs_city_trans_cus['Transaction ID'] = cabs_city_trans_cus['Transaction ID'].astype(str)\n",
    "cabs_city_trans_cus['Customer ID'] = cabs_city_trans_cus['Customer ID'].astype(str)"
   ]
  },
  {
   "cell_type": "code",
   "execution_count": 15,
   "id": "c07498db",
   "metadata": {},
   "outputs": [],
   "source": [
    "#changing users and populations\n",
    "cabs_city_trans_cus['Population'] = cabs_city_trans_cus['Population'].apply(lambda x:x.replace(',',''))\n",
    "cabs_city_trans_cus['Population'] = cabs_city_trans_cus['Population'].astype(int)\n",
    "cabs_city_trans_cus['Users'] = cabs_city_trans_cus['Users'].apply(lambda x:x.replace(',',''))\n",
    "cabs_city_trans_cus['Users'] = cabs_city_trans_cus['Users'].astype(int)"
   ]
  },
  {
   "cell_type": "code",
   "execution_count": 16,
   "id": "66e15d36",
   "metadata": {},
   "outputs": [
    {
     "name": "stdout",
     "output_type": "stream",
     "text": [
      "<class 'pandas.core.frame.DataFrame'>\n",
      "Int64Index: 359392 entries, 0 to 359391\n",
      "Data columns (total 14 columns):\n",
      " #   Column              Non-Null Count   Dtype  \n",
      "---  ------              --------------   -----  \n",
      " 0   Transaction ID      359392 non-null  object \n",
      " 1   Date of Travel      359392 non-null  int64  \n",
      " 2   Company             359392 non-null  object \n",
      " 3   City                359392 non-null  object \n",
      " 4   KM Travelled        359392 non-null  float64\n",
      " 5   Price Charged       359392 non-null  float64\n",
      " 6   Cost of Trip        359392 non-null  float64\n",
      " 7   Population          359392 non-null  int32  \n",
      " 8   Users               359392 non-null  int32  \n",
      " 9   Customer ID         359392 non-null  object \n",
      " 10  Payment_Mode        359392 non-null  object \n",
      " 11  Gender              359392 non-null  object \n",
      " 12  Age                 359392 non-null  int64  \n",
      " 13  Income (USD/Month)  359392 non-null  int64  \n",
      "dtypes: float64(3), int32(2), int64(3), object(6)\n",
      "memory usage: 30.2+ MB\n"
     ]
    }
   ],
   "source": [
    "cabs_city_trans_cus.info()"
   ]
  },
  {
   "cell_type": "markdown",
   "id": "d94edd70",
   "metadata": {},
   "source": [
    "succesfully changed!"
   ]
  },
  {
   "cell_type": "code",
   "execution_count": 17,
   "id": "0d5628ba",
   "metadata": {},
   "outputs": [
    {
     "name": "stdout",
     "output_type": "stream",
     "text": [
      "<class 'pandas.core.frame.DataFrame'>\n",
      "Int64Index: 359392 entries, 0 to 359391\n",
      "Data columns (total 13 columns):\n",
      " #   Column              Non-Null Count   Dtype  \n",
      "---  ------              --------------   -----  \n",
      " 0   Transaction ID      359392 non-null  object \n",
      " 1   Company             359392 non-null  object \n",
      " 2   City                359392 non-null  object \n",
      " 3   KM Travelled        359392 non-null  float64\n",
      " 4   Price Charged       359392 non-null  float64\n",
      " 5   Cost of Trip        359392 non-null  float64\n",
      " 6   Population          359392 non-null  int32  \n",
      " 7   Users               359392 non-null  int32  \n",
      " 8   Customer ID         359392 non-null  object \n",
      " 9   Payment_Mode        359392 non-null  object \n",
      " 10  Gender              359392 non-null  object \n",
      " 11  Age                 359392 non-null  int64  \n",
      " 12  Income (USD/Month)  359392 non-null  int64  \n",
      "dtypes: float64(3), int32(2), int64(2), object(6)\n",
      "memory usage: 27.4+ MB\n"
     ]
    }
   ],
   "source": [
    "#drop date column\n",
    "cabs_city_trans_cus.drop(['Date of Travel'],axis=1,inplace=True)\n",
    "cabs_city_trans_cus.info()"
   ]
  },
  {
   "cell_type": "markdown",
   "id": "fa890ce0",
   "metadata": {},
   "source": [
    "* The number of columns has changed to 13\n",
    "* The dtypes are classified as 3 floats,4 integers,6 objects"
   ]
  },
  {
   "cell_type": "code",
   "execution_count": 18,
   "id": "19d01b7b",
   "metadata": {},
   "outputs": [
    {
     "data": {
      "text/plain": [
       "0"
      ]
     },
     "execution_count": 18,
     "metadata": {},
     "output_type": "execute_result"
    }
   ],
   "source": [
    "#check for duplicates\n",
    "cabs_city_trans_cus.duplicated().sum()"
   ]
  },
  {
   "cell_type": "markdown",
   "id": "08e6eff5",
   "metadata": {},
   "source": [
    "there are no duplicates"
   ]
  },
  {
   "cell_type": "code",
   "execution_count": 19,
   "id": "a048d93c",
   "metadata": {},
   "outputs": [
    {
     "data": {
      "text/plain": [
       "<AxesSubplot:>"
      ]
     },
     "execution_count": 19,
     "metadata": {},
     "output_type": "execute_result"
    },
    {
     "data": {
      "image/png": "[encoded data removed]",
      "text/plain": [
       "<Figure size 720x576 with 1 Axes>"
      ]
     },
     "metadata": {
      "needs_background": "light"
     },
     "output_type": "display_data"
    }
   ],
   "source": [
    "#check for outliers\n",
    "cabs_city_trans_cus.boxplot(figsize=(10,8))"
   ]
  },
  {
   "cell_type": "markdown",
   "id": "06656d58",
   "metadata": {},
   "source": [
    "there are no outliers in the data"
   ]
  },
  {
   "cell_type": "code",
   "execution_count": 20,
   "id": "ab87e3ec",
   "metadata": {},
   "outputs": [
    {
     "data": {
      "text/html": [
       "<div>\n",
       "<style scoped>\n",
       "    .dataframe tbody tr th:only-of-type {\n",
       "        vertical-align: middle;\n",
       "    }\n",
       "\n",
       "    .dataframe tbody tr th {\n",
       "        vertical-align: top;\n",
       "    }\n",
       "\n",
       "    .dataframe thead th {\n",
       "        text-align: right;\n",
       "    }\n",
       "</style>\n",
       "<table border=\"1\" class=\"dataframe\">\n",
       "  <thead>\n",
       "    <tr style=\"text-align: right;\">\n",
       "      <th></th>\n",
       "      <th>KM Travelled</th>\n",
       "      <th>Price Charged</th>\n",
       "      <th>Cost of Trip</th>\n",
       "      <th>Population</th>\n",
       "      <th>Users</th>\n",
       "      <th>Age</th>\n",
       "      <th>Income (USD/Month)</th>\n",
       "    </tr>\n",
       "  </thead>\n",
       "  <tbody>\n",
       "    <tr>\n",
       "      <th>count</th>\n",
       "      <td>359392.000000</td>\n",
       "      <td>359392.000000</td>\n",
       "      <td>359392.000000</td>\n",
       "      <td>3.593920e+05</td>\n",
       "      <td>359392.000000</td>\n",
       "      <td>359392.000000</td>\n",
       "      <td>359392.000000</td>\n",
       "    </tr>\n",
       "    <tr>\n",
       "      <th>mean</th>\n",
       "      <td>22.567254</td>\n",
       "      <td>423.443311</td>\n",
       "      <td>286.190113</td>\n",
       "      <td>3.132198e+06</td>\n",
       "      <td>158365.582267</td>\n",
       "      <td>35.336705</td>\n",
       "      <td>15048.822937</td>\n",
       "    </tr>\n",
       "    <tr>\n",
       "      <th>std</th>\n",
       "      <td>12.233526</td>\n",
       "      <td>274.378911</td>\n",
       "      <td>157.993661</td>\n",
       "      <td>3.315194e+06</td>\n",
       "      <td>100850.051020</td>\n",
       "      <td>12.594234</td>\n",
       "      <td>7969.409482</td>\n",
       "    </tr>\n",
       "    <tr>\n",
       "      <th>min</th>\n",
       "      <td>1.900000</td>\n",
       "      <td>15.600000</td>\n",
       "      <td>19.000000</td>\n",
       "      <td>2.489680e+05</td>\n",
       "      <td>3643.000000</td>\n",
       "      <td>18.000000</td>\n",
       "      <td>2000.000000</td>\n",
       "    </tr>\n",
       "    <tr>\n",
       "      <th>25%</th>\n",
       "      <td>12.000000</td>\n",
       "      <td>206.437500</td>\n",
       "      <td>151.200000</td>\n",
       "      <td>6.712380e+05</td>\n",
       "      <td>80021.000000</td>\n",
       "      <td>25.000000</td>\n",
       "      <td>8424.000000</td>\n",
       "    </tr>\n",
       "    <tr>\n",
       "      <th>50%</th>\n",
       "      <td>22.440000</td>\n",
       "      <td>386.360000</td>\n",
       "      <td>282.480000</td>\n",
       "      <td>1.595037e+06</td>\n",
       "      <td>144132.000000</td>\n",
       "      <td>33.000000</td>\n",
       "      <td>14685.000000</td>\n",
       "    </tr>\n",
       "    <tr>\n",
       "      <th>75%</th>\n",
       "      <td>32.960000</td>\n",
       "      <td>583.660000</td>\n",
       "      <td>413.683200</td>\n",
       "      <td>8.405837e+06</td>\n",
       "      <td>302149.000000</td>\n",
       "      <td>42.000000</td>\n",
       "      <td>21035.000000</td>\n",
       "    </tr>\n",
       "    <tr>\n",
       "      <th>max</th>\n",
       "      <td>48.000000</td>\n",
       "      <td>2048.030000</td>\n",
       "      <td>691.200000</td>\n",
       "      <td>8.405837e+06</td>\n",
       "      <td>302149.000000</td>\n",
       "      <td>65.000000</td>\n",
       "      <td>35000.000000</td>\n",
       "    </tr>\n",
       "  </tbody>\n",
       "</table>\n",
       "</div>"
      ],
      "text/plain": [
       "        KM Travelled  Price Charged   Cost of Trip    Population  \\\n",
       "count  359392.000000  359392.000000  359392.000000  3.593920e+05   \n",
       "mean       22.567254     423.443311     286.190113  3.132198e+06   \n",
       "std        12.233526     274.378911     157.993661  3.315194e+06   \n",
       "min         1.900000      15.600000      19.000000  2.489680e+05   \n",
       "25%        12.000000     206.437500     151.200000  6.712380e+05   \n",
       "50%        22.440000     386.360000     282.480000  1.595037e+06   \n",
       "75%        32.960000     583.660000     413.683200  8.405837e+06   \n",
       "max        48.000000    2048.030000     691.200000  8.405837e+06   \n",
       "\n",
       "               Users            Age  Income (USD/Month)  \n",
       "count  359392.000000  359392.000000       359392.000000  \n",
       "mean   158365.582267      35.336705        15048.822937  \n",
       "std    100850.051020      12.594234         7969.409482  \n",
       "min      3643.000000      18.000000         2000.000000  \n",
       "25%     80021.000000      25.000000         8424.000000  \n",
       "50%    144132.000000      33.000000        14685.000000  \n",
       "75%    302149.000000      42.000000        21035.000000  \n",
       "max    302149.000000      65.000000        35000.000000  "
      ]
     },
     "execution_count": 20,
     "metadata": {},
     "output_type": "execute_result"
    }
   ],
   "source": [
    "#describe our data\n",
    "cabs_city_trans_cus.describe()"
   ]
  },
  {
   "cell_type": "markdown",
   "id": "3980452e",
   "metadata": {},
   "source": [
    "* The maximum kilometre travelled is 48km while the minimum kilometre travelled is 1.9km\n",
    "* The maximum price charged is 2048.03,the minimum price charged is 15.6 and the mean price charged is 423.4\n",
    "* The maximum cost of a trip is 691.2 while the minimum cost of a trip is 19.0\n",
    "* The maximum number of users is 302149,the minimum number of users is 3643,and total number of users is 359392\n",
    "* The max age of a user is 65,the minimum age is 18 and the mean age is 35\n",
    "* The max income of a cab is 35000 USD/Month,the minimum income is 2000 USD while the mean income is 15048.82USD/Month"
   ]
  },
  {
   "cell_type": "code",
   "execution_count": 21,
   "id": "b03370b3",
   "metadata": {},
   "outputs": [
    {
     "data": {
      "text/html": [
       "<div>\n",
       "<style scoped>\n",
       "    .dataframe tbody tr th:only-of-type {\n",
       "        vertical-align: middle;\n",
       "    }\n",
       "\n",
       "    .dataframe tbody tr th {\n",
       "        vertical-align: top;\n",
       "    }\n",
       "\n",
       "    .dataframe thead th {\n",
       "        text-align: right;\n",
       "    }\n",
       "</style>\n",
       "<table border=\"1\" class=\"dataframe\">\n",
       "  <thead>\n",
       "    <tr style=\"text-align: right;\">\n",
       "      <th></th>\n",
       "      <th>Transaction ID</th>\n",
       "      <th>Company</th>\n",
       "      <th>City</th>\n",
       "      <th>KM Travelled</th>\n",
       "      <th>Price Charged</th>\n",
       "      <th>Cost of Trip</th>\n",
       "      <th>Population</th>\n",
       "      <th>Users</th>\n",
       "      <th>Customer ID</th>\n",
       "      <th>Payment_Mode</th>\n",
       "      <th>Gender</th>\n",
       "      <th>Age</th>\n",
       "      <th>Income (USD/Month)</th>\n",
       "    </tr>\n",
       "  </thead>\n",
       "  <tbody>\n",
       "    <tr>\n",
       "      <th>0</th>\n",
       "      <td>10000011</td>\n",
       "      <td>Pink Cab</td>\n",
       "      <td>ATLANTA GA</td>\n",
       "      <td>30.45</td>\n",
       "      <td>370.95</td>\n",
       "      <td>313.6350</td>\n",
       "      <td>814885</td>\n",
       "      <td>24701</td>\n",
       "      <td>29290</td>\n",
       "      <td>Card</td>\n",
       "      <td>Male</td>\n",
       "      <td>28</td>\n",
       "      <td>10813</td>\n",
       "    </tr>\n",
       "    <tr>\n",
       "      <th>1</th>\n",
       "      <td>10351127</td>\n",
       "      <td>Yellow Cab</td>\n",
       "      <td>ATLANTA GA</td>\n",
       "      <td>26.19</td>\n",
       "      <td>598.70</td>\n",
       "      <td>317.4228</td>\n",
       "      <td>814885</td>\n",
       "      <td>24701</td>\n",
       "      <td>29290</td>\n",
       "      <td>Cash</td>\n",
       "      <td>Male</td>\n",
       "      <td>28</td>\n",
       "      <td>10813</td>\n",
       "    </tr>\n",
       "    <tr>\n",
       "      <th>2</th>\n",
       "      <td>10412921</td>\n",
       "      <td>Yellow Cab</td>\n",
       "      <td>ATLANTA GA</td>\n",
       "      <td>42.55</td>\n",
       "      <td>792.05</td>\n",
       "      <td>597.4020</td>\n",
       "      <td>814885</td>\n",
       "      <td>24701</td>\n",
       "      <td>29290</td>\n",
       "      <td>Card</td>\n",
       "      <td>Male</td>\n",
       "      <td>28</td>\n",
       "      <td>10813</td>\n",
       "    </tr>\n",
       "    <tr>\n",
       "      <th>3</th>\n",
       "      <td>10000012</td>\n",
       "      <td>Pink Cab</td>\n",
       "      <td>ATLANTA GA</td>\n",
       "      <td>28.62</td>\n",
       "      <td>358.52</td>\n",
       "      <td>334.8540</td>\n",
       "      <td>814885</td>\n",
       "      <td>24701</td>\n",
       "      <td>27703</td>\n",
       "      <td>Card</td>\n",
       "      <td>Male</td>\n",
       "      <td>27</td>\n",
       "      <td>9237</td>\n",
       "    </tr>\n",
       "    <tr>\n",
       "      <th>4</th>\n",
       "      <td>10320494</td>\n",
       "      <td>Yellow Cab</td>\n",
       "      <td>ATLANTA GA</td>\n",
       "      <td>36.38</td>\n",
       "      <td>721.10</td>\n",
       "      <td>467.1192</td>\n",
       "      <td>814885</td>\n",
       "      <td>24701</td>\n",
       "      <td>27703</td>\n",
       "      <td>Card</td>\n",
       "      <td>Male</td>\n",
       "      <td>27</td>\n",
       "      <td>9237</td>\n",
       "    </tr>\n",
       "  </tbody>\n",
       "</table>\n",
       "</div>"
      ],
      "text/plain": [
       "  Transaction ID     Company        City  KM Travelled  Price Charged  \\\n",
       "0       10000011    Pink Cab  ATLANTA GA         30.45         370.95   \n",
       "1       10351127  Yellow Cab  ATLANTA GA         26.19         598.70   \n",
       "2       10412921  Yellow Cab  ATLANTA GA         42.55         792.05   \n",
       "3       10000012    Pink Cab  ATLANTA GA         28.62         358.52   \n",
       "4       10320494  Yellow Cab  ATLANTA GA         36.38         721.10   \n",
       "\n",
       "   Cost of Trip  Population  Users Customer ID Payment_Mode Gender  Age  \\\n",
       "0      313.6350      814885  24701       29290         Card   Male   28   \n",
       "1      317.4228      814885  24701       29290         Cash   Male   28   \n",
       "2      597.4020      814885  24701       29290         Card   Male   28   \n",
       "3      334.8540      814885  24701       27703         Card   Male   27   \n",
       "4      467.1192      814885  24701       27703         Card   Male   27   \n",
       "\n",
       "   Income (USD/Month)  \n",
       "0               10813  \n",
       "1               10813  \n",
       "2               10813  \n",
       "3                9237  \n",
       "4                9237  "
      ]
     },
     "execution_count": 21,
     "metadata": {},
     "output_type": "execute_result"
    }
   ],
   "source": [
    "cabs_city_trans_cus.head()"
   ]
  },
  {
   "cell_type": "code",
   "execution_count": 22,
   "id": "ec1e99a2",
   "metadata": {},
   "outputs": [
    {
     "data": {
      "text/plain": [
       "Yellow Cab    274681\n",
       "Pink Cab       84711\n",
       "Name: Company, dtype: int64"
      ]
     },
     "execution_count": 22,
     "metadata": {},
     "output_type": "execute_result"
    }
   ],
   "source": [
    "#describe categorical values\n",
    "cabs_city_trans_cus['Company'].value_counts()"
   ]
  },
  {
   "cell_type": "markdown",
   "id": "641536a7",
   "metadata": {},
   "source": [
    "* Yellow cab has more users than pink cab"
   ]
  },
  {
   "cell_type": "code",
   "execution_count": 40,
   "id": "f17b358c",
   "metadata": {},
   "outputs": [
    {
     "data": {
      "text/plain": [
       "NEW YORK NY       99885\n",
       "CHICAGO IL        56625\n",
       "LOS ANGELES CA    48033\n",
       "WASHINGTON DC     43737\n",
       "BOSTON MA         29692\n",
       "SAN DIEGO CA      20488\n",
       "SILICON VALLEY     8519\n",
       "SEATTLE WA         7997\n",
       "ATLANTA GA         7557\n",
       "DALLAS TX          7017\n",
       "MIAMI FL           6454\n",
       "AUSTIN TX          4896\n",
       "ORANGE COUNTY      3982\n",
       "DENVER CO          3825\n",
       "NASHVILLE TN       3010\n",
       "SACRAMENTO CA      2367\n",
       "PHOENIX AZ         2064\n",
       "TUCSON AZ          1931\n",
       "PITTSBURGH PA      1313\n",
       "Name: City, dtype: int64"
      ]
     },
     "execution_count": 40,
     "metadata": {},
     "output_type": "execute_result"
    }
   ],
   "source": [
    "cabs_city_trans_cus['City'].value_counts()"
   ]
  },
  {
   "cell_type": "markdown",
   "id": "d393f16f",
   "metadata": {},
   "source": [
    "* New York has more users of cabs followed by Chicago and Los Angeles.Pittsburgh has the least number of cab users"
   ]
  },
  {
   "cell_type": "code",
   "execution_count": 41,
   "id": "ddd6f648",
   "metadata": {},
   "outputs": [
    {
     "data": {
      "text/plain": [
       "Card    215504\n",
       "Cash    143888\n",
       "Name: Payment_Mode, dtype: int64"
      ]
     },
     "execution_count": 41,
     "metadata": {},
     "output_type": "execute_result"
    }
   ],
   "source": [
    "cabs_city_trans_cus['Payment_Mode'].value_counts()"
   ]
  },
  {
   "cell_type": "markdown",
   "id": "ed197382",
   "metadata": {},
   "source": [
    "* Most users use card payment method than cash"
   ]
  },
  {
   "cell_type": "code",
   "execution_count": 42,
   "id": "c79c8fe7",
   "metadata": {},
   "outputs": [
    {
     "data": {
      "text/plain": [
       "Male      205912\n",
       "Female    153480\n",
       "Name: Gender, dtype: int64"
      ]
     },
     "execution_count": 42,
     "metadata": {},
     "output_type": "execute_result"
    }
   ],
   "source": [
    "cabs_city_trans_cus['Gender'].value_counts()"
   ]
  },
  {
   "cell_type": "markdown",
   "id": "13399708",
   "metadata": {},
   "source": [
    "* Male use cabs more than female"
   ]
  },
  {
   "cell_type": "markdown",
   "id": "151f650c",
   "metadata": {},
   "source": [
    "### FEATURE ENGINEERING"
   ]
  },
  {
   "cell_type": "code",
   "execution_count": 24,
   "id": "1928a5c1",
   "metadata": {},
   "outputs": [
    {
     "data": {
      "text/plain": [
       "0          57.3150\n",
       "1         281.2772\n",
       "2         194.6480\n",
       "3          23.6660\n",
       "4         253.9808\n",
       "            ...   \n",
       "359387    143.6180\n",
       "359388     23.0464\n",
       "359389     -5.8540\n",
       "359390     -6.0900\n",
       "359391     25.7948\n",
       "Name: Profit, Length: 359392, dtype: float64"
      ]
     },
     "execution_count": 24,
     "metadata": {},
     "output_type": "execute_result"
    }
   ],
   "source": [
    "#Calculate profit\n",
    "cabs_city_trans_cus['Profit'] = cabs_city_trans_cus['Price Charged']-cabs_city_trans_cus['Cost of Trip']\n",
    "cabs_city_trans_cus['Profit']\n"
   ]
  },
  {
   "cell_type": "code",
   "execution_count": 25,
   "id": "31c4b3e3",
   "metadata": {},
   "outputs": [],
   "source": [
    "#Calculate profit margin\n",
    "cabs_city_trans_cus['Profit_Margin'] = cabs_city_trans_cus['Profit']/cabs_city_trans_cus['Price Charged']"
   ]
  },
  {
   "cell_type": "code",
   "execution_count": 26,
   "id": "4b24aa46",
   "metadata": {},
   "outputs": [
    {
     "data": {
      "text/html": [
       "<div>\n",
       "<style scoped>\n",
       "    .dataframe tbody tr th:only-of-type {\n",
       "        vertical-align: middle;\n",
       "    }\n",
       "\n",
       "    .dataframe tbody tr th {\n",
       "        vertical-align: top;\n",
       "    }\n",
       "\n",
       "    .dataframe thead th {\n",
       "        text-align: right;\n",
       "    }\n",
       "</style>\n",
       "<table border=\"1\" class=\"dataframe\">\n",
       "  <thead>\n",
       "    <tr style=\"text-align: right;\">\n",
       "      <th></th>\n",
       "      <th>Transaction ID</th>\n",
       "      <th>Company</th>\n",
       "      <th>City</th>\n",
       "      <th>KM Travelled</th>\n",
       "      <th>Price Charged</th>\n",
       "      <th>Cost of Trip</th>\n",
       "      <th>Population</th>\n",
       "      <th>Users</th>\n",
       "      <th>Customer ID</th>\n",
       "      <th>Payment_Mode</th>\n",
       "      <th>Gender</th>\n",
       "      <th>Age</th>\n",
       "      <th>Income (USD/Month)</th>\n",
       "      <th>Profit</th>\n",
       "      <th>Profit_Margin</th>\n",
       "    </tr>\n",
       "  </thead>\n",
       "  <tbody>\n",
       "    <tr>\n",
       "      <th>0</th>\n",
       "      <td>10000011</td>\n",
       "      <td>Pink Cab</td>\n",
       "      <td>ATLANTA GA</td>\n",
       "      <td>30.45</td>\n",
       "      <td>370.95</td>\n",
       "      <td>313.6350</td>\n",
       "      <td>814885</td>\n",
       "      <td>24701</td>\n",
       "      <td>29290</td>\n",
       "      <td>Card</td>\n",
       "      <td>Male</td>\n",
       "      <td>28</td>\n",
       "      <td>10813</td>\n",
       "      <td>57.3150</td>\n",
       "      <td>0.154509</td>\n",
       "    </tr>\n",
       "    <tr>\n",
       "      <th>1</th>\n",
       "      <td>10351127</td>\n",
       "      <td>Yellow Cab</td>\n",
       "      <td>ATLANTA GA</td>\n",
       "      <td>26.19</td>\n",
       "      <td>598.70</td>\n",
       "      <td>317.4228</td>\n",
       "      <td>814885</td>\n",
       "      <td>24701</td>\n",
       "      <td>29290</td>\n",
       "      <td>Cash</td>\n",
       "      <td>Male</td>\n",
       "      <td>28</td>\n",
       "      <td>10813</td>\n",
       "      <td>281.2772</td>\n",
       "      <td>0.469813</td>\n",
       "    </tr>\n",
       "    <tr>\n",
       "      <th>2</th>\n",
       "      <td>10412921</td>\n",
       "      <td>Yellow Cab</td>\n",
       "      <td>ATLANTA GA</td>\n",
       "      <td>42.55</td>\n",
       "      <td>792.05</td>\n",
       "      <td>597.4020</td>\n",
       "      <td>814885</td>\n",
       "      <td>24701</td>\n",
       "      <td>29290</td>\n",
       "      <td>Card</td>\n",
       "      <td>Male</td>\n",
       "      <td>28</td>\n",
       "      <td>10813</td>\n",
       "      <td>194.6480</td>\n",
       "      <td>0.245752</td>\n",
       "    </tr>\n",
       "    <tr>\n",
       "      <th>3</th>\n",
       "      <td>10000012</td>\n",
       "      <td>Pink Cab</td>\n",
       "      <td>ATLANTA GA</td>\n",
       "      <td>28.62</td>\n",
       "      <td>358.52</td>\n",
       "      <td>334.8540</td>\n",
       "      <td>814885</td>\n",
       "      <td>24701</td>\n",
       "      <td>27703</td>\n",
       "      <td>Card</td>\n",
       "      <td>Male</td>\n",
       "      <td>27</td>\n",
       "      <td>9237</td>\n",
       "      <td>23.6660</td>\n",
       "      <td>0.066010</td>\n",
       "    </tr>\n",
       "    <tr>\n",
       "      <th>4</th>\n",
       "      <td>10320494</td>\n",
       "      <td>Yellow Cab</td>\n",
       "      <td>ATLANTA GA</td>\n",
       "      <td>36.38</td>\n",
       "      <td>721.10</td>\n",
       "      <td>467.1192</td>\n",
       "      <td>814885</td>\n",
       "      <td>24701</td>\n",
       "      <td>27703</td>\n",
       "      <td>Card</td>\n",
       "      <td>Male</td>\n",
       "      <td>27</td>\n",
       "      <td>9237</td>\n",
       "      <td>253.9808</td>\n",
       "      <td>0.352213</td>\n",
       "    </tr>\n",
       "  </tbody>\n",
       "</table>\n",
       "</div>"
      ],
      "text/plain": [
       "  Transaction ID     Company        City  KM Travelled  Price Charged  \\\n",
       "0       10000011    Pink Cab  ATLANTA GA         30.45         370.95   \n",
       "1       10351127  Yellow Cab  ATLANTA GA         26.19         598.70   \n",
       "2       10412921  Yellow Cab  ATLANTA GA         42.55         792.05   \n",
       "3       10000012    Pink Cab  ATLANTA GA         28.62         358.52   \n",
       "4       10320494  Yellow Cab  ATLANTA GA         36.38         721.10   \n",
       "\n",
       "   Cost of Trip  Population  Users Customer ID Payment_Mode Gender  Age  \\\n",
       "0      313.6350      814885  24701       29290         Card   Male   28   \n",
       "1      317.4228      814885  24701       29290         Cash   Male   28   \n",
       "2      597.4020      814885  24701       29290         Card   Male   28   \n",
       "3      334.8540      814885  24701       27703         Card   Male   27   \n",
       "4      467.1192      814885  24701       27703         Card   Male   27   \n",
       "\n",
       "   Income (USD/Month)    Profit  Profit_Margin  \n",
       "0               10813   57.3150       0.154509  \n",
       "1               10813  281.2772       0.469813  \n",
       "2               10813  194.6480       0.245752  \n",
       "3                9237   23.6660       0.066010  \n",
       "4                9237  253.9808       0.352213  "
      ]
     },
     "execution_count": 26,
     "metadata": {},
     "output_type": "execute_result"
    }
   ],
   "source": [
    "cabs_city_trans_cus.head()"
   ]
  },
  {
   "cell_type": "code",
   "execution_count": 27,
   "id": "6d7cf840",
   "metadata": {},
   "outputs": [],
   "source": [
    "#LET US BIN THE AGE COLUMN\n",
    "cabs_city_trans_cus.loc[(cabs_city_trans_cus.Age)<18,'Age_Group'] = 'Kid'\n",
    "cabs_city_trans_cus.loc[((cabs_city_trans_cus.Age>=18)&(cabs_city_trans_cus.Age<44)),'Age_Group'] = 'young adult'\n",
    "cabs_city_trans_cus.loc[((cabs_city_trans_cus.Age>=44)&(cabs_city_trans_cus.Age<64)),'Age_Group'] = 'Mature adult'\n",
    "cabs_city_trans_cus.loc[(cabs_city_trans_cus.Age)>64,'Age_Group'] = 'Old'"
   ]
  },
  {
   "cell_type": "code",
   "execution_count": 28,
   "id": "385a0333",
   "metadata": {},
   "outputs": [],
   "source": [
    "#LET US BIN THE INCOME COLUMN\n",
    "cabs_city_trans_cus['Annual_Income'] = cabs_city_trans_cus['Income (USD/Month)'] * 12"
   ]
  },
  {
   "cell_type": "code",
   "execution_count": 29,
   "id": "0692cf46",
   "metadata": {},
   "outputs": [],
   "source": [
    "cabs_city_trans_cus.loc[(cabs_city_trans_cus.Annual_Income<32048),'Income Group'] = 'Poor'\n",
    "cabs_city_trans_cus.loc[((cabs_city_trans_cus.Annual_Income>32048) & (cabs_city_trans_cus.Annual_Income)< 53413),'Income Group']= 'loweer-middle'\n",
    "cabs_city_trans_cus.loc[((cabs_city_trans_cus.Annual_Income>53413)&(cabs_city_trans_cus.Annual_Income<106827)),'Income Group'] = 'middle-income'\n",
    "cabs_city_trans_cus.loc[((cabs_city_trans_cus.Annual_Income>106827)&(cabs_city_trans_cus.Annual_Income<373894)),'Income Group'] = 'Upper-middle'\n",
    "cabs_city_trans_cus.loc[(cabs_city_trans_cus.Annual_Income>373894),'Income Group'] = 'Rich'\n"
   ]
  },
  {
   "cell_type": "code",
   "execution_count": 30,
   "id": "88b1d0a1",
   "metadata": {},
   "outputs": [
    {
     "data": {
      "text/html": [
       "<div>\n",
       "<style scoped>\n",
       "    .dataframe tbody tr th:only-of-type {\n",
       "        vertical-align: middle;\n",
       "    }\n",
       "\n",
       "    .dataframe tbody tr th {\n",
       "        vertical-align: top;\n",
       "    }\n",
       "\n",
       "    .dataframe thead th {\n",
       "        text-align: right;\n",
       "    }\n",
       "</style>\n",
       "<table border=\"1\" class=\"dataframe\">\n",
       "  <thead>\n",
       "    <tr style=\"text-align: right;\">\n",
       "      <th></th>\n",
       "      <th>Transaction ID</th>\n",
       "      <th>Company</th>\n",
       "      <th>City</th>\n",
       "      <th>KM Travelled</th>\n",
       "      <th>Price Charged</th>\n",
       "      <th>Cost of Trip</th>\n",
       "      <th>Population</th>\n",
       "      <th>Users</th>\n",
       "      <th>Customer ID</th>\n",
       "      <th>Payment_Mode</th>\n",
       "      <th>Gender</th>\n",
       "      <th>Age</th>\n",
       "      <th>Income (USD/Month)</th>\n",
       "      <th>Profit</th>\n",
       "      <th>Profit_Margin</th>\n",
       "      <th>Age_Group</th>\n",
       "      <th>Annual_Income</th>\n",
       "      <th>Income Group</th>\n",
       "    </tr>\n",
       "  </thead>\n",
       "  <tbody>\n",
       "    <tr>\n",
       "      <th>0</th>\n",
       "      <td>10000011</td>\n",
       "      <td>Pink Cab</td>\n",
       "      <td>ATLANTA GA</td>\n",
       "      <td>30.45</td>\n",
       "      <td>370.95</td>\n",
       "      <td>313.6350</td>\n",
       "      <td>814885</td>\n",
       "      <td>24701</td>\n",
       "      <td>29290</td>\n",
       "      <td>Card</td>\n",
       "      <td>Male</td>\n",
       "      <td>28</td>\n",
       "      <td>10813</td>\n",
       "      <td>57.3150</td>\n",
       "      <td>0.154509</td>\n",
       "      <td>young adult</td>\n",
       "      <td>129756</td>\n",
       "      <td>Upper-middle</td>\n",
       "    </tr>\n",
       "    <tr>\n",
       "      <th>1</th>\n",
       "      <td>10351127</td>\n",
       "      <td>Yellow Cab</td>\n",
       "      <td>ATLANTA GA</td>\n",
       "      <td>26.19</td>\n",
       "      <td>598.70</td>\n",
       "      <td>317.4228</td>\n",
       "      <td>814885</td>\n",
       "      <td>24701</td>\n",
       "      <td>29290</td>\n",
       "      <td>Cash</td>\n",
       "      <td>Male</td>\n",
       "      <td>28</td>\n",
       "      <td>10813</td>\n",
       "      <td>281.2772</td>\n",
       "      <td>0.469813</td>\n",
       "      <td>young adult</td>\n",
       "      <td>129756</td>\n",
       "      <td>Upper-middle</td>\n",
       "    </tr>\n",
       "    <tr>\n",
       "      <th>2</th>\n",
       "      <td>10412921</td>\n",
       "      <td>Yellow Cab</td>\n",
       "      <td>ATLANTA GA</td>\n",
       "      <td>42.55</td>\n",
       "      <td>792.05</td>\n",
       "      <td>597.4020</td>\n",
       "      <td>814885</td>\n",
       "      <td>24701</td>\n",
       "      <td>29290</td>\n",
       "      <td>Card</td>\n",
       "      <td>Male</td>\n",
       "      <td>28</td>\n",
       "      <td>10813</td>\n",
       "      <td>194.6480</td>\n",
       "      <td>0.245752</td>\n",
       "      <td>young adult</td>\n",
       "      <td>129756</td>\n",
       "      <td>Upper-middle</td>\n",
       "    </tr>\n",
       "    <tr>\n",
       "      <th>3</th>\n",
       "      <td>10000012</td>\n",
       "      <td>Pink Cab</td>\n",
       "      <td>ATLANTA GA</td>\n",
       "      <td>28.62</td>\n",
       "      <td>358.52</td>\n",
       "      <td>334.8540</td>\n",
       "      <td>814885</td>\n",
       "      <td>24701</td>\n",
       "      <td>27703</td>\n",
       "      <td>Card</td>\n",
       "      <td>Male</td>\n",
       "      <td>27</td>\n",
       "      <td>9237</td>\n",
       "      <td>23.6660</td>\n",
       "      <td>0.066010</td>\n",
       "      <td>young adult</td>\n",
       "      <td>110844</td>\n",
       "      <td>Upper-middle</td>\n",
       "    </tr>\n",
       "    <tr>\n",
       "      <th>4</th>\n",
       "      <td>10320494</td>\n",
       "      <td>Yellow Cab</td>\n",
       "      <td>ATLANTA GA</td>\n",
       "      <td>36.38</td>\n",
       "      <td>721.10</td>\n",
       "      <td>467.1192</td>\n",
       "      <td>814885</td>\n",
       "      <td>24701</td>\n",
       "      <td>27703</td>\n",
       "      <td>Card</td>\n",
       "      <td>Male</td>\n",
       "      <td>27</td>\n",
       "      <td>9237</td>\n",
       "      <td>253.9808</td>\n",
       "      <td>0.352213</td>\n",
       "      <td>young adult</td>\n",
       "      <td>110844</td>\n",
       "      <td>Upper-middle</td>\n",
       "    </tr>\n",
       "  </tbody>\n",
       "</table>\n",
       "</div>"
      ],
      "text/plain": [
       "  Transaction ID     Company        City  KM Travelled  Price Charged  \\\n",
       "0       10000011    Pink Cab  ATLANTA GA         30.45         370.95   \n",
       "1       10351127  Yellow Cab  ATLANTA GA         26.19         598.70   \n",
       "2       10412921  Yellow Cab  ATLANTA GA         42.55         792.05   \n",
       "3       10000012    Pink Cab  ATLANTA GA         28.62         358.52   \n",
       "4       10320494  Yellow Cab  ATLANTA GA         36.38         721.10   \n",
       "\n",
       "   Cost of Trip  Population  Users Customer ID Payment_Mode Gender  Age  \\\n",
       "0      313.6350      814885  24701       29290         Card   Male   28   \n",
       "1      317.4228      814885  24701       29290         Cash   Male   28   \n",
       "2      597.4020      814885  24701       29290         Card   Male   28   \n",
       "3      334.8540      814885  24701       27703         Card   Male   27   \n",
       "4      467.1192      814885  24701       27703         Card   Male   27   \n",
       "\n",
       "   Income (USD/Month)    Profit  Profit_Margin    Age_Group  Annual_Income  \\\n",
       "0               10813   57.3150       0.154509  young adult         129756   \n",
       "1               10813  281.2772       0.469813  young adult         129756   \n",
       "2               10813  194.6480       0.245752  young adult         129756   \n",
       "3                9237   23.6660       0.066010  young adult         110844   \n",
       "4                9237  253.9808       0.352213  young adult         110844   \n",
       "\n",
       "   Income Group  \n",
       "0  Upper-middle  \n",
       "1  Upper-middle  \n",
       "2  Upper-middle  \n",
       "3  Upper-middle  \n",
       "4  Upper-middle  "
      ]
     },
     "execution_count": 30,
     "metadata": {},
     "output_type": "execute_result"
    }
   ],
   "source": [
    "cabs_city_trans_cus.head()"
   ]
  },
  {
   "cell_type": "markdown",
   "id": "539814b8",
   "metadata": {},
   "source": [
    "## EXPLORATORY DATA ANALYSIS\n",
    "\n",
    "   * univariate analysis\n",
    "   * Bivariate analysis\n",
    "   * Multivariate analysis"
   ]
  },
  {
   "cell_type": "markdown",
   "id": "8ba279f2",
   "metadata": {},
   "source": [
    "#### univariate analysis"
   ]
  },
  {
   "cell_type": "code",
   "execution_count": 34,
   "id": "c6ebb4c7",
   "metadata": {},
   "outputs": [],
   "source": [
    "#creating histograms\n",
    "def diagram(i):\n",
    "    fig,ax=plt.subplots(figsize=(10,10))\n",
    "    cab_val=cabs_city_trans_cus[i].value_counts()\n",
    "    x= cab_val.index\n",
    "    y= cab_val.values\n",
    "    diagram = ax.bar(x,y)\n",
    "    ax.set_title('number of transactions per {}'.format(i),fontsize=20)\n",
    "    ax.set_xlabel('{}'.format(i),fontsize=15)\n",
    "    ax.set_ylabel('number of transactions',fontsize=15)\n",
    "    plt.xticks(rotation=45)\n",
    "    plt.show()\n",
    "    return diagram"
   ]
  },
  {
   "cell_type": "markdown",
   "id": "d1cc5e1e",
   "metadata": {},
   "source": [
    "### Which company has the highest number of transactions?"
   ]
  },
  {
   "cell_type": "code",
   "execution_count": 35,
   "id": "b8af8964",
   "metadata": {},
   "outputs": [
    {
     "data": {
      "image/png": "[encoded data removed]",
      "text/plain": [
       "<Figure size 720x720 with 1 Axes>"
      ]
     },
     "metadata": {
      "needs_background": "light"
     },
     "output_type": "display_data"
    },
    {
     "data": {
      "text/plain": [
       "<BarContainer object of 2 artists>"
      ]
     },
     "execution_count": 35,
     "metadata": {},
     "output_type": "execute_result"
    }
   ],
   "source": [
    "diagram('Company')"
   ]
  },
  {
   "cell_type": "markdown",
   "id": "659b0fa1",
   "metadata": {},
   "source": [
    "Yellow cab has more number of transactions than pink cab"
   ]
  },
  {
   "cell_type": "markdown",
   "id": "a1284e70",
   "metadata": {},
   "source": [
    "### Which city has the highest number of transactions"
   ]
  },
  {
   "cell_type": "code",
   "execution_count": 36,
   "id": "9a76f778",
   "metadata": {},
   "outputs": [
    {
     "data": {
      "image/png": "[encoded data removed]",
      "text/plain": [
       "<Figure size 720x720 with 1 Axes>"
      ]
     },
     "metadata": {
      "needs_background": "light"
     },
     "output_type": "display_data"
    },
    {
     "data": {
      "text/plain": [
       "<BarContainer object of 19 artists>"
      ]
     },
     "execution_count": 36,
     "metadata": {},
     "output_type": "execute_result"
    }
   ],
   "source": [
    "diagram('City')"
   ]
  },
  {
   "cell_type": "markdown",
   "id": "c1cddc36",
   "metadata": {},
   "source": [
    "### Which gender has the highest number of transactions?"
   ]
  },
  {
   "cell_type": "code",
   "execution_count": 37,
   "id": "8febf42c",
   "metadata": {},
   "outputs": [
    {
     "data": {
      "image/png": "[encoded data removed]",
      "text/plain": [
       "<Figure size 720x720 with 1 Axes>"
      ]
     },
     "metadata": {
      "needs_background": "light"
     },
     "output_type": "display_data"
    },
    {
     "data": {
      "text/plain": [
       "<BarContainer object of 2 artists>"
      ]
     },
     "execution_count": 37,
     "metadata": {},
     "output_type": "execute_result"
    }
   ],
   "source": [
    "diagram('Gender')"
   ]
  },
  {
   "cell_type": "markdown",
   "id": "2d3e8a67",
   "metadata": {},
   "source": [
    "### Which is the most used payment method?"
   ]
  },
  {
   "cell_type": "code",
   "execution_count": 38,
   "id": "04a23657",
   "metadata": {},
   "outputs": [
    {
     "data": {
      "image/png": "[encoded data removed]",
      "text/plain": [
       "<Figure size 720x720 with 1 Axes>"
      ]
     },
     "metadata": {
      "needs_background": "light"
     },
     "output_type": "display_data"
    },
    {
     "data": {
      "text/plain": [
       "<BarContainer object of 2 artists>"
      ]
     },
     "execution_count": 38,
     "metadata": {},
     "output_type": "execute_result"
    }
   ],
   "source": [
    "diagram('Payment_Mode')"
   ]
  },
  {
   "cell_type": "markdown",
   "id": "411320b6",
   "metadata": {},
   "source": [
    "Most customers pay with card"
   ]
  },
  {
   "cell_type": "markdown",
   "id": "29c03583",
   "metadata": {},
   "source": [
    "### Bivariate Analysis"
   ]
  },
  {
   "cell_type": "markdown",
   "id": "ab11cf22",
   "metadata": {},
   "source": [
    "### Which company realizes more profit?"
   ]
  },
  {
   "cell_type": "code",
   "execution_count": 39,
   "id": "1a18cf9c",
   "metadata": {},
   "outputs": [
    {
     "data": {
      "image/png": "[encoded data removed]",
      "text/plain": [
       "<Figure size 720x504 with 1 Axes>"
      ]
     },
     "metadata": {
      "needs_background": "light"
     },
     "output_type": "display_data"
    }
   ],
   "source": [
    "fig,ax=plt.subplots(figsize=(10,7))\n",
    "cabs_city_trans_cus.groupby(['Company'])['Profit'].sum().plot(kind='bar',color='black')\n",
    "plt.xlabel('Company',fontsize=15)\n",
    "plt.ylabel('Total profit',fontsize=15)\n",
    "plt.title('Total profit per company')\n",
    "plt.show()"
   ]
  },
  {
   "cell_type": "markdown",
   "id": "0306318e",
   "metadata": {},
   "source": [
    "Yellow cab realizes more profit than pink cab"
   ]
  },
  {
   "cell_type": "code",
   "execution_count": 41,
   "id": "452dd716",
   "metadata": {},
   "outputs": [
    {
     "data": {
      "image/png": "[encoded data removed]",
      "text/plain": [
       "<Figure size 720x504 with 1 Axes>"
      ]
     },
     "metadata": {
      "needs_background": "light"
     },
     "output_type": "display_data"
    }
   ],
   "source": [
    "fig,ax=plt.subplots(figsize=(10,7))\n",
    "cabs_city_trans_cus.groupby(['Company'])['Profit_Margin'].mean().plot(kind='bar',color='blue')\n",
    "plt.xlabel('Company',fontsize=15)\n",
    "plt.ylabel('Average Profit Margin',fontsize=15)\n",
    "plt.title('Profit Margin per Company')\n",
    "plt.show()"
   ]
  },
  {
   "cell_type": "markdown",
   "id": "556d271d",
   "metadata": {},
   "source": [
    "Yellow cab has a higher profit margin of 30 percent than pink cab with 18 percent profit margin"
   ]
  },
  {
   "cell_type": "markdown",
   "id": "01a42f14",
   "metadata": {},
   "source": [
    "### Which company has more users?"
   ]
  },
  {
   "cell_type": "code",
   "execution_count": 42,
   "id": "0dfde57e",
   "metadata": {},
   "outputs": [
    {
     "data": {
      "image/png": "[encoded data removed]",
      "text/plain": [
       "<Figure size 720x504 with 1 Axes>"
      ]
     },
     "metadata": {
      "needs_background": "light"
     },
     "output_type": "display_data"
    }
   ],
   "source": [
    "fig,ax=plt.subplots(figsize=(10,7))\n",
    "cabs_city_trans_cus.groupby(['Company'])['Customer ID'].nunique().plot(kind='bar',color='red')\n",
    "plt.title('Number of users per company',fontsize=20)\n",
    "plt.xlabel('Company',fontsize=15)\n",
    "plt.ylabel('Number of customers')\n",
    "plt.show()"
   ]
  },
  {
   "cell_type": "markdown",
   "id": "9d0167b7",
   "metadata": {},
   "source": [
    "yellow cab has 38000 customers while pink cab has 32000 customers"
   ]
  },
  {
   "cell_type": "code",
   "execution_count": 43,
   "id": "08f0d028",
   "metadata": {},
   "outputs": [
    {
     "data": {
      "image/png": "[encoded data removed]",
      "text/plain": [
       "<Figure size 1080x720 with 1 Axes>"
      ]
     },
     "metadata": {
      "needs_background": "light"
     },
     "output_type": "display_data"
    }
   ],
   "source": [
    "fig,ax =plt.subplots(figsize=(15,10))\n",
    "cabs_city_trans_cus.groupby(['City'])['Users'].mean().sort_values(ascending=False).plot(kind='bar',color='blue')\n",
    "plt.title('Number of users per city',fontsize=20)\n",
    "plt.xlabel('City',fontsize=15)\n",
    "plt.ylabel('Number of users',fontsize=15)\n",
    "plt.show()"
   ]
  },
  {
   "cell_type": "markdown",
   "id": "daf5134c",
   "metadata": {},
   "source": [
    "New York has the highest number of users with 30000 followed by Chicago 16000 and Los Angeles 14000,Pittsburg has the lowest number of users"
   ]
  },
  {
   "cell_type": "markdown",
   "id": "0ee7e1b0",
   "metadata": {},
   "source": [
    "### Multivariate Analysis"
   ]
  },
  {
   "cell_type": "markdown",
   "id": "645c7da2",
   "metadata": {},
   "source": [
    "### What is the distribution of customers per city per company?"
   ]
  },
  {
   "cell_type": "code",
   "execution_count": 44,
   "id": "43c20504",
   "metadata": {},
   "outputs": [
    {
     "data": {
      "image/png": "[encoded data removed]",
      "text/plain": [
       "<Figure size 1080x720 with 1 Axes>"
      ]
     },
     "metadata": {
      "needs_background": "light"
     },
     "output_type": "display_data"
    }
   ],
   "source": [
    "fig,ax=plt.subplots(figsize=(15,10))\n",
    "Cab = cabs_city_trans_cus.groupby(['City','Company'])['Customer ID'].nunique()\n",
    "Cab.unstack().plot(kind='bar',stacked=False,ax=ax)\n",
    "plt.ylabel('Number of customers',fontsize=15)\n",
    "plt.title('Number of customers per city')\n",
    "plt.xlabel('City/Company',fontsize=15)\n",
    "plt.show()\n"
   ]
  },
  {
   "cell_type": "markdown",
   "id": "0c64c974",
   "metadata": {},
   "source": [
    "Pink cab has more market share than yellow cab in the following cities:\n",
    "* Nashville TN\n",
    "* Pittsburg PA\n",
    "* Sacramento CA \n",
    "* San Diego CA \n",
    "\n",
    "in the remaining cities yellow cab has more market share"
   ]
  },
  {
   "cell_type": "markdown",
   "id": "c310f6df",
   "metadata": {},
   "source": [
    "### What is the profit margin per company per city?"
   ]
  },
  {
   "cell_type": "code",
   "execution_count": 45,
   "id": "705ae17a",
   "metadata": {},
   "outputs": [
    {
     "data": {
      "image/png": "[encoded data removed]",
      "text/plain": [
       "<Figure size 1080x720 with 1 Axes>"
      ]
     },
     "metadata": {
      "needs_background": "light"
     },
     "output_type": "display_data"
    }
   ],
   "source": [
    "fig,ax = plt.subplots(figsize=(15,10))\n",
    "Cab = cabs_city_trans_cus.groupby(['City','Company'])['Profit_Margin'].mean()\n",
    "Cab.unstack().plot(kind='bar',stacked=False,ax=ax)\n",
    "plt.title('Profit Margin Per Company Per City',fontsize=20)\n",
    "plt.ylabel('Average Profit Margin',fontsize=15)\n",
    "plt.show()\n",
    "    "
   ]
  },
  {
   "cell_type": "markdown",
   "id": "1fb301eb",
   "metadata": {},
   "source": [
    "In all the cities Yellow cab has a higher profit margin except in Tuscon AZ where Pink cab has a higher profit margin  "
   ]
  },
  {
   "cell_type": "markdown",
   "id": "efc9719b",
   "metadata": {},
   "source": [
    "### What is the age distribution of customers per company?"
   ]
  },
  {
   "cell_type": "code",
   "execution_count": 47,
   "id": "f516c535",
   "metadata": {},
   "outputs": [
    {
     "data": {
      "image/png": "[encoded data removed]",
      "text/plain": [
       "<Figure size 1080x720 with 1 Axes>"
      ]
     },
     "metadata": {
      "needs_background": "light"
     },
     "output_type": "display_data"
    }
   ],
   "source": [
    "fig,ax = plt.subplots(figsize=(15,10))\n",
    "cab = cabs_city_trans_cus.groupby(['Age_Group','Company'])['Customer ID'].nunique()\n",
    "cab.unstack().plot(kind='bar',ax=ax)\n",
    "plt.title('Age group distribution per Company',fontsize=20)\n",
    "plt.ylabel('number of customers',fontsize=15)\n",
    "plt.show()"
   ]
  },
  {
   "cell_type": "markdown",
   "id": "5df93af6",
   "metadata": {},
   "source": [
    "* most customers for both companies are young adults\n",
    "* many young adults prefer the yellow cab\n",
    "* there is a low number of the old using cabs"
   ]
  },
  {
   "cell_type": "markdown",
   "id": "65605ccd",
   "metadata": {},
   "source": [
    "### What is the income distribution of customers per company?"
   ]
  },
  {
   "cell_type": "code",
   "execution_count": 83,
   "id": "b2d80ff6",
   "metadata": {},
   "outputs": [
    {
     "data": {
      "image/png": "[encoded data removed]",
      "text/plain": [
       "<Figure size 1440x720 with 1 Axes>"
      ]
     },
     "metadata": {
      "needs_background": "light"
     },
     "output_type": "display_data"
    }
   ],
   "source": [
    "fig,ax = plt.subplots(figsize=(20,10))\n",
    "cab = cabs_city_trans_cus.groupby(['Income Group','Company'])['Customer ID'].nunique()\n",
    "cab.unstack().plot(kind='bar',ax=ax)\n",
    "plt.title('Income group distribution per Company',fontsize=20)\n",
    "plt.ylabel('number of customers',fontsize=15)\n",
    "plt.show()"
   ]
  },
  {
   "cell_type": "markdown",
   "id": "c8337b61",
   "metadata": {},
   "source": [
    "* The upper middle class use cabs the most among all income groups\n",
    "* yellow cab is the preffered cab of use by all income groups"
   ]
  },
  {
   "cell_type": "markdown",
   "id": "da6ade7d",
   "metadata": {},
   "source": [
    "## RECOMMENDATIONS\n",
    "* XYZ should invest in yellow cab because it has a larger market share of around 38000 users.\n",
    "* XYZ should also focus its resources on these three major cities,New York,Chicago,Los Angeles because of the high number of users.\n",
    "* XYZ should invest in yellow cab since it records higher profits and higher profit margin and it will prove to have a high return on investment?\n",
    "* XYZ should focus its marketing strategies to capture the young population and mature adult as they are the most users of cabs\n",
    "* XYZ should focus its marketing strategies to capture the middle-income and upper-middle income earners as they are the most users of cabs\n",
    "* XYZ should develop a payment app as most users use cards for payment"
   ]
  },
  {
   "cell_type": "code",
   "execution_count": null,
   "id": "0e8fff70",
   "metadata": {},
   "outputs": [],
   "source": []
  }
 ],
 "metadata": {
  "kernelspec": {
   "display_name": "Python 3 (ipykernel)",
   "language": "python",
   "name": "python3"
  },
  "language_info": {
   "codemirror_mode": {
    "name": "ipython",
    "version": 3
   },
   "file_extension": ".py",
   "mimetype": "text/x-python",
   "name": "python",
   "nbconvert_exporter": "python",
   "pygments_lexer": "ipython3",
   "version": "3.9.12"
  }
 },
 "nbformat": 4,
 "nbformat_minor": 5
}
